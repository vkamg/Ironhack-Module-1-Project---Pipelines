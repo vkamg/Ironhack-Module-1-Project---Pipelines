{
 "cells": [
  {
   "cell_type": "code",
   "execution_count": 1,
   "metadata": {},
   "outputs": [],
   "source": [
    "import pandas as pd\n",
    "import matplotlib.pyplot as plt\n",
    "import numpy as np\n",
    "from fpdf import FPDF"
   ]
  },
  {
   "cell_type": "code",
   "execution_count": 2,
   "metadata": {},
   "outputs": [
    {
     "data": {
      "text/html": [
       "<div>\n",
       "<style scoped>\n",
       "    .dataframe tbody tr th:only-of-type {\n",
       "        vertical-align: middle;\n",
       "    }\n",
       "\n",
       "    .dataframe tbody tr th {\n",
       "        vertical-align: top;\n",
       "    }\n",
       "\n",
       "    .dataframe thead th {\n",
       "        text-align: right;\n",
       "    }\n",
       "</style>\n",
       "<table border=\"1\" class=\"dataframe\">\n",
       "  <thead>\n",
       "    <tr style=\"text-align: right;\">\n",
       "      <th></th>\n",
       "      <th>name</th>\n",
       "      <th>worth_amount_(BUSD)</th>\n",
       "      <th>country</th>\n",
       "      <th>company_sector</th>\n",
       "      <th>company_name</th>\n",
       "      <th>age</th>\n",
       "      <th>GDP_BUSD</th>\n",
       "      <th>GDP_per_capita_USD</th>\n",
       "    </tr>\n",
       "  </thead>\n",
       "  <tbody>\n",
       "    <tr>\n",
       "      <th>0</th>\n",
       "      <td>Jeff Bezos</td>\n",
       "      <td>112.0</td>\n",
       "      <td>United States</td>\n",
       "      <td>Technology</td>\n",
       "      <td>Amazon</td>\n",
       "      <td>54.0</td>\n",
       "      <td>20494100.0</td>\n",
       "      <td>62641.0</td>\n",
       "    </tr>\n",
       "    <tr>\n",
       "      <th>1</th>\n",
       "      <td>Bill Gates</td>\n",
       "      <td>90.0</td>\n",
       "      <td>United States</td>\n",
       "      <td>Technology</td>\n",
       "      <td>Microsoft</td>\n",
       "      <td>62.0</td>\n",
       "      <td>20494100.0</td>\n",
       "      <td>62641.0</td>\n",
       "    </tr>\n",
       "    <tr>\n",
       "      <th>2</th>\n",
       "      <td>Warren Buffett</td>\n",
       "      <td>84.0</td>\n",
       "      <td>United States</td>\n",
       "      <td>Finance and Investments</td>\n",
       "      <td>Berkshire Hathaway</td>\n",
       "      <td>87.0</td>\n",
       "      <td>20494100.0</td>\n",
       "      <td>62641.0</td>\n",
       "    </tr>\n",
       "    <tr>\n",
       "      <th>3</th>\n",
       "      <td>Mark Zuckerberg</td>\n",
       "      <td>71.0</td>\n",
       "      <td>United States</td>\n",
       "      <td>Technology</td>\n",
       "      <td>Facebook</td>\n",
       "      <td>33.0</td>\n",
       "      <td>20494100.0</td>\n",
       "      <td>62641.0</td>\n",
       "    </tr>\n",
       "    <tr>\n",
       "      <th>4</th>\n",
       "      <td>Charles Koch</td>\n",
       "      <td>60.0</td>\n",
       "      <td>United States</td>\n",
       "      <td>Diversified</td>\n",
       "      <td>Koch Industries</td>\n",
       "      <td>82.0</td>\n",
       "      <td>20494100.0</td>\n",
       "      <td>62641.0</td>\n",
       "    </tr>\n",
       "  </tbody>\n",
       "</table>\n",
       "</div>"
      ],
      "text/plain": [
       "              name  worth_amount_(BUSD)        country  \\\n",
       "0       Jeff Bezos                112.0  United States   \n",
       "1       Bill Gates                 90.0  United States   \n",
       "2   Warren Buffett                 84.0  United States   \n",
       "3  Mark Zuckerberg                 71.0  United States   \n",
       "4     Charles Koch                 60.0  United States   \n",
       "\n",
       "            company_sector        company_name   age    GDP_BUSD  \\\n",
       "0               Technology              Amazon  54.0  20494100.0   \n",
       "1               Technology           Microsoft  62.0  20494100.0   \n",
       "2  Finance and Investments  Berkshire Hathaway  87.0  20494100.0   \n",
       "3               Technology            Facebook  33.0  20494100.0   \n",
       "4              Diversified     Koch Industries  82.0  20494100.0   \n",
       "\n",
       "   GDP_per_capita_USD  \n",
       "0             62641.0  \n",
       "1             62641.0  \n",
       "2             62641.0  \n",
       "3             62641.0  \n",
       "4             62641.0  "
      ]
     },
     "execution_count": 2,
     "metadata": {},
     "output_type": "execute_result"
    }
   ],
   "source": [
    "df_forbeslist_gdp = pd.read_parquet(f'../data/processed/forbeslist_gdp.parquet')\n",
    "\n",
    "df_forbeslist_gdp.head()"
   ]
  },
  {
   "cell_type": "code",
   "execution_count": 3,
   "metadata": {},
   "outputs": [],
   "source": [
    "#5 richest people of the list given the country.\n",
    "\n",
    "def richest_people(dataframe, country):\n",
    "    filter_country = dataframe['country'] == country\n",
    "    result = dataframe[filter_country].nlargest(5, 'worth_amount_(BUSD)')\n",
    "    return result"
   ]
  },
  {
   "cell_type": "code",
   "execution_count": 4,
   "metadata": {},
   "outputs": [],
   "source": [
    "plot1 = richest_people(df_forbeslist_gdp, 'Mexico')"
   ]
  },
  {
   "cell_type": "code",
   "execution_count": 5,
   "metadata": {},
   "outputs": [
    {
     "data": {
      "text/html": [
       "<div>\n",
       "<style scoped>\n",
       "    .dataframe tbody tr th:only-of-type {\n",
       "        vertical-align: middle;\n",
       "    }\n",
       "\n",
       "    .dataframe tbody tr th {\n",
       "        vertical-align: top;\n",
       "    }\n",
       "\n",
       "    .dataframe thead th {\n",
       "        text-align: right;\n",
       "    }\n",
       "</style>\n",
       "<table border=\"1\" class=\"dataframe\">\n",
       "  <thead>\n",
       "    <tr style=\"text-align: right;\">\n",
       "      <th></th>\n",
       "      <th>name</th>\n",
       "      <th>worth_amount_(BUSD)</th>\n",
       "      <th>country</th>\n",
       "      <th>company_sector</th>\n",
       "      <th>company_name</th>\n",
       "      <th>age</th>\n",
       "      <th>GDP_BUSD</th>\n",
       "      <th>GDP_per_capita_USD</th>\n",
       "    </tr>\n",
       "  </thead>\n",
       "  <tbody>\n",
       "    <tr>\n",
       "      <th>639</th>\n",
       "      <td>Alberto Bailleres Gonzalez</td>\n",
       "      <td>10.7</td>\n",
       "      <td>Mexico</td>\n",
       "      <td>Metals &amp; Mining</td>\n",
       "      <td>mining</td>\n",
       "      <td>86.0</td>\n",
       "      <td>1223810.0</td>\n",
       "      <td>9698.0</td>\n",
       "    </tr>\n",
       "    <tr>\n",
       "      <th>640</th>\n",
       "      <td>Maria Asuncion Aramburuzabala</td>\n",
       "      <td>5.9</td>\n",
       "      <td>Mexico</td>\n",
       "      <td>Food and Beverage</td>\n",
       "      <td>beer, investments</td>\n",
       "      <td>55.0</td>\n",
       "      <td>1223810.0</td>\n",
       "      <td>9698.0</td>\n",
       "    </tr>\n",
       "    <tr>\n",
       "      <th>641</th>\n",
       "      <td>Antonio Del Valle Ruiz</td>\n",
       "      <td>3.4</td>\n",
       "      <td>Mexico</td>\n",
       "      <td>Manufacturing</td>\n",
       "      <td>chemicals</td>\n",
       "      <td>79.0</td>\n",
       "      <td>1223810.0</td>\n",
       "      <td>9698.0</td>\n",
       "    </tr>\n",
       "    <tr>\n",
       "      <th>642</th>\n",
       "      <td>Carlos Hank Rhon</td>\n",
       "      <td>2.0</td>\n",
       "      <td>Mexico</td>\n",
       "      <td>Diversified</td>\n",
       "      <td>banking</td>\n",
       "      <td>70.0</td>\n",
       "      <td>1223810.0</td>\n",
       "      <td>9698.0</td>\n",
       "    </tr>\n",
       "    <tr>\n",
       "      <th>643</th>\n",
       "      <td>Emilio Azcarraga Jean</td>\n",
       "      <td>1.7</td>\n",
       "      <td>Mexico</td>\n",
       "      <td>Media &amp; Entertainment</td>\n",
       "      <td>TV broadcasting</td>\n",
       "      <td>50.0</td>\n",
       "      <td>1223810.0</td>\n",
       "      <td>9698.0</td>\n",
       "    </tr>\n",
       "  </tbody>\n",
       "</table>\n",
       "</div>"
      ],
      "text/plain": [
       "                              name  worth_amount_(BUSD) country  \\\n",
       "639     Alberto Bailleres Gonzalez                 10.7  Mexico   \n",
       "640  Maria Asuncion Aramburuzabala                  5.9  Mexico   \n",
       "641         Antonio Del Valle Ruiz                  3.4  Mexico   \n",
       "642               Carlos Hank Rhon                  2.0  Mexico   \n",
       "643          Emilio Azcarraga Jean                  1.7  Mexico   \n",
       "\n",
       "            company_sector       company_name   age   GDP_BUSD  \\\n",
       "639        Metals & Mining             mining  86.0  1223810.0   \n",
       "640      Food and Beverage  beer, investments  55.0  1223810.0   \n",
       "641          Manufacturing          chemicals  79.0  1223810.0   \n",
       "642            Diversified            banking  70.0  1223810.0   \n",
       "643  Media & Entertainment    TV broadcasting  50.0  1223810.0   \n",
       "\n",
       "     GDP_per_capita_USD  \n",
       "639              9698.0  \n",
       "640              9698.0  \n",
       "641              9698.0  \n",
       "642              9698.0  \n",
       "643              9698.0  "
      ]
     },
     "execution_count": 5,
     "metadata": {},
     "output_type": "execute_result"
    }
   ],
   "source": [
    "plot1"
   ]
  },
  {
   "cell_type": "code",
   "execution_count": 6,
   "metadata": {},
   "outputs": [],
   "source": [
    "label = plot1['name']\n",
    "BUSD = plot1['worth_amount_(BUSD)']"
   ]
  },
  {
   "cell_type": "code",
   "execution_count": 7,
   "metadata": {},
   "outputs": [],
   "source": [
    "def plot1_bar_x():\n",
    "    plt.figure(figsize=(15,4))\n",
    "    index = np.arange(len(label))\n",
    "    plt.bar(index, BUSD)\n",
    "    plt.ylabel('Billions of USD', fontsize=12)\n",
    "    plt.xticks(index, label, fontsize=10, rotation=0)\n",
    "    country = plot1['country'].unique()[0]\n",
    "    plt.title(f'The 5 richest people in {country} according to Forbes List (2018)', fontsize=20)\n",
    "    plt.savefig(f'../data/results/5richest.png')\n",
    "    return plt.show()"
   ]
  },
  {
   "cell_type": "code",
   "execution_count": 8,
   "metadata": {},
   "outputs": [
    {
     "data": {
      "image/png": "[encoded data removed]",
      "text/plain": [
       "<Figure size 1080x288 with 1 Axes>"
      ]
     },
     "metadata": {
      "needs_background": "light"
     },
     "output_type": "display_data"
    }
   ],
   "source": [
    "plot1_bar_x()"
   ]
  },
  {
   "cell_type": "code",
   "execution_count": 9,
   "metadata": {},
   "outputs": [],
   "source": [
    "#country gdp compared to the average world's gdp\n",
    "\n",
    "def country_gdp(dataframe, country):\n",
    "    filter_country = df_forbeslist_gdp['country'] == country\n",
    "    gdp_country_array = df_forbeslist_gdp[filter_country]['GDP_BUSD'].unique()\n",
    "    gdp_country = gdp_country_array[0]\n",
    "    gdp_unique = dataframe['GDP_BUSD'].unique()\n",
    "    gdp_mean = round(gdp_unique.mean(), 1)\n",
    "    list_country_gdp = [gdp_country, gdp_mean]\n",
    "    return list_country_gdp"
   ]
  },
  {
   "cell_type": "code",
   "execution_count": 10,
   "metadata": {},
   "outputs": [],
   "source": [
    "list_country_gdp = country_gdp(df_forbeslist_gdp, 'Mexico')"
   ]
  },
  {
   "cell_type": "code",
   "execution_count": 11,
   "metadata": {},
   "outputs": [],
   "source": [
    "label = ['Mexico GDP', 'Average GDP']\n",
    "BUSD = list_country_gdp"
   ]
  },
  {
   "cell_type": "code",
   "execution_count": 12,
   "metadata": {},
   "outputs": [],
   "source": [
    "def plot2_bar_x():\n",
    "    plt.figure(figsize=(15,4))\n",
    "    index = np.arange(len(label))\n",
    "    plt.bar(index, BUSD)\n",
    "    plt.ylabel('Billions of USD', fontsize=12)\n",
    "    plt.xticks(index, label, fontsize=12, rotation=0)\n",
    "    country = label[0]\n",
    "    plt.title(f'{country} compared to Average GDP (2018)', fontsize=16)\n",
    "    plt.savefig(f'../data/results/gdpcountry.png')\n",
    "    return plt.show()"
   ]
  },
  {
   "cell_type": "code",
   "execution_count": 13,
   "metadata": {},
   "outputs": [
    {
     "data": {
      "image/png": "[encoded data removed]",
      "text/plain": [
       "<Figure size 1080x288 with 1 Axes>"
      ]
     },
     "metadata": {
      "needs_background": "light"
     },
     "output_type": "display_data"
    }
   ],
   "source": [
    "plot2_bar_x()"
   ]
  },
  {
   "cell_type": "code",
   "execution_count": 14,
   "metadata": {},
   "outputs": [],
   "source": [
    "#gdp per capita compare to the average world's gdp per capita\n",
    "\n",
    "def gdp_per_capita(dataframe, country):\n",
    "    filter_country = df_forbeslist_gdp['country'] == country\n",
    "    gdp_percapita_array = df_forbeslist_gdp[filter_country]['GDP_per_capita_USD'].unique()\n",
    "    gdp_percapita = gdp_percapita_array[0]\n",
    "    gdp_percapita_unique = dataframe['GDP_per_capita_USD'].unique()\n",
    "    gdp_percapita_mean = round(gdp_percapita_unique.mean(), 1)\n",
    "    list_gdp_percapita = [gdp_percapita, gdp_percapita_mean]\n",
    "    return list_gdp_percapita"
   ]
  },
  {
   "cell_type": "code",
   "execution_count": 15,
   "metadata": {},
   "outputs": [],
   "source": [
    "list_gdp_percapita = gdp_per_capita(df_forbeslist_gdp, 'Mexico')"
   ]
  },
  {
   "cell_type": "code",
   "execution_count": 16,
   "metadata": {},
   "outputs": [],
   "source": [
    "label = ['Mexico GDP per capita', 'Average GDP per capita']\n",
    "BUSD = list_gdp_percapita"
   ]
  },
  {
   "cell_type": "code",
   "execution_count": 17,
   "metadata": {},
   "outputs": [],
   "source": [
    "def plot3_bar_x():\n",
    "    plt.figure(figsize=(15,4))\n",
    "    index = np.arange(len(label))\n",
    "    plt.bar(index, BUSD)\n",
    "    plt.ylabel('USD', fontsize=12)\n",
    "    plt.xticks(index, label, fontsize=12, rotation=0)\n",
    "    country = label[0]\n",
    "    plt.title(f'{country} compared to Average GDP per capita (2018)', fontsize=16)\n",
    "    plt.savefig(f'../data/results/gdppercapita.png')\n",
    "    return plt.show()"
   ]
  },
  {
   "cell_type": "code",
   "execution_count": 18,
   "metadata": {},
   "outputs": [
    {
     "data": {
      "image/png": "[encoded data removed]",
      "text/plain": [
       "<Figure size 1080x288 with 1 Axes>"
      ]
     },
     "metadata": {
      "needs_background": "light"
     },
     "output_type": "display_data"
    }
   ],
   "source": [
    "plot3_bar_x()"
   ]
  },
  {
   "cell_type": "code",
   "execution_count": 19,
   "metadata": {},
   "outputs": [],
   "source": [
    "def create_pdf():\n",
    "    pdf = FPDF(orientation='P', unit='mm', format='A4')\n",
    "    pdf.add_page()\n",
    "    pdf.set_font(\"Arial\", size=20)\n",
    "    pdf.cell(3.0,1.0,'Forbes List and GDP report 2018')\n",
    "    pdf.ln(6)\n",
    "    images = [f'../data/results/5richest.png', f'../data/results/gdpcountry.png', f'../data/results/gdppercapita.png']\n",
    "    for image in images:\n",
    "        pdf.image(image, w=pdf.w/1, h=pdf.h/3.5)\n",
    "        pdf.ln(0.15)\n",
    "    pdf.output(f'../data/results/report.pdf')\n",
    "    return \"PDF successfully created. You can find the report in the results folder\""
   ]
  },
  {
   "cell_type": "code",
   "execution_count": 20,
   "metadata": {},
   "outputs": [
    {
     "data": {
      "text/plain": [
       "'PDF successfully created. You can find the report in the results folder'"
      ]
     },
     "execution_count": 20,
     "metadata": {},
     "output_type": "execute_result"
    }
   ],
   "source": [
    "create_pdf()"
   ]
  }
 ],
 "metadata": {
  "kernelspec": {
   "display_name": "Python [conda env:data_env]",
   "language": "python",
   "name": "conda-env-data_env-py"
  },
  "language_info": {
   "codemirror_mode": {
    "name": "ipython",
    "version": 3
   },
   "file_extension": ".py",
   "mimetype": "text/x-python",
   "name": "python",
   "nbconvert_exporter": "python",
   "pygments_lexer": "ipython3",
   "version": "3.7.5"
  }
 },
 "nbformat": 4,
 "nbformat_minor": 4
}
