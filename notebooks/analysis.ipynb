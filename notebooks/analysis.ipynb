{
 "cells": [
  {
   "cell_type": "code",
   "execution_count": 1,
   "metadata": {},
   "outputs": [],
   "source": [
    "import pandas as pd\n",
    "import matplotlib.pyplot as plt\n",
    "import numpy as np\n",
    "from fpdf import FPDF"
   ]
  },
  {
   "cell_type": "code",
   "execution_count": 2,
   "metadata": {},
   "outputs": [
    {
     "data": {
      "text/html": [
       "<div>\n",
       "<style scoped>\n",
       "    .dataframe tbody tr th:only-of-type {\n",
       "        vertical-align: middle;\n",
       "    }\n",
       "\n",
       "    .dataframe tbody tr th {\n",
       "        vertical-align: top;\n",
       "    }\n",
       "\n",
       "    .dataframe thead th {\n",
       "        text-align: right;\n",
       "    }\n",
       "</style>\n",
       "<table border=\"1\" class=\"dataframe\">\n",
       "  <thead>\n",
       "    <tr style=\"text-align: right;\">\n",
       "      <th></th>\n",
       "      <th>name</th>\n",
       "      <th>gender</th>\n",
       "      <th>age</th>\n",
       "      <th>worth_amount_(BUSD)</th>\n",
       "      <th>country</th>\n",
       "      <th>company_sector</th>\n",
       "      <th>company_name</th>\n",
       "      <th>GDP_per_capita_USD</th>\n",
       "    </tr>\n",
       "  </thead>\n",
       "  <tbody>\n",
       "    <tr>\n",
       "      <th>0</th>\n",
       "      <td>Jeff Bezos</td>\n",
       "      <td>M</td>\n",
       "      <td>54.0</td>\n",
       "      <td>112.0</td>\n",
       "      <td>United States</td>\n",
       "      <td>Technology</td>\n",
       "      <td>Amazon</td>\n",
       "      <td>62641</td>\n",
       "    </tr>\n",
       "    <tr>\n",
       "      <th>1</th>\n",
       "      <td>Bill Gates</td>\n",
       "      <td>M</td>\n",
       "      <td>62.0</td>\n",
       "      <td>90.0</td>\n",
       "      <td>United States</td>\n",
       "      <td>Technology</td>\n",
       "      <td>Microsoft</td>\n",
       "      <td>62641</td>\n",
       "    </tr>\n",
       "    <tr>\n",
       "      <th>2</th>\n",
       "      <td>Warren Buffett</td>\n",
       "      <td>M</td>\n",
       "      <td>87.0</td>\n",
       "      <td>84.0</td>\n",
       "      <td>United States</td>\n",
       "      <td>Finance and Investments</td>\n",
       "      <td>Berkshire Hathaway</td>\n",
       "      <td>62641</td>\n",
       "    </tr>\n",
       "    <tr>\n",
       "      <th>3</th>\n",
       "      <td>Mark Zuckerberg</td>\n",
       "      <td>M</td>\n",
       "      <td>33.0</td>\n",
       "      <td>71.0</td>\n",
       "      <td>United States</td>\n",
       "      <td>Technology</td>\n",
       "      <td>Facebook</td>\n",
       "      <td>62641</td>\n",
       "    </tr>\n",
       "    <tr>\n",
       "      <th>4</th>\n",
       "      <td>Charles Koch</td>\n",
       "      <td>M</td>\n",
       "      <td>82.0</td>\n",
       "      <td>60.0</td>\n",
       "      <td>United States</td>\n",
       "      <td>Diversified</td>\n",
       "      <td>Koch Industries</td>\n",
       "      <td>62641</td>\n",
       "    </tr>\n",
       "  </tbody>\n",
       "</table>\n",
       "</div>"
      ],
      "text/plain": [
       "              name gender   age  worth_amount_(BUSD)        country  \\\n",
       "0       Jeff Bezos      M  54.0                112.0  United States   \n",
       "1       Bill Gates      M  62.0                 90.0  United States   \n",
       "2   Warren Buffett      M  87.0                 84.0  United States   \n",
       "3  Mark Zuckerberg      M  33.0                 71.0  United States   \n",
       "4     Charles Koch      M  82.0                 60.0  United States   \n",
       "\n",
       "            company_sector        company_name  GDP_per_capita_USD  \n",
       "0               Technology              Amazon               62641  \n",
       "1               Technology           Microsoft               62641  \n",
       "2  Finance and Investments  Berkshire Hathaway               62641  \n",
       "3               Technology            Facebook               62641  \n",
       "4              Diversified     Koch Industries               62641  "
      ]
     },
     "execution_count": 2,
     "metadata": {},
     "output_type": "execute_result"
    }
   ],
   "source": [
    "df_definitive = pd.read_csv(f'../data/processed/definitive_dataframe.csv')\n",
    "columns = ['name', 'gender', 'age', 'worth_amount_(BUSD)', 'country', 'company_sector', 'company_name', 'GDP_per_capita_USD']\n",
    "df_forbeslist_gdp = df_definitive[columns]\n",
    "df_forbeslist_gdp.head()"
   ]
  },
  {
   "cell_type": "markdown",
   "metadata": {},
   "source": [
    "1. Gender Analysis"
   ]
  },
  {
   "cell_type": "code",
   "execution_count": 3,
   "metadata": {},
   "outputs": [
    {
     "data": {
      "text/plain": [
       "M    88.663366\n",
       "F    10.891089\n",
       "Name: gender, dtype: float64"
      ]
     },
     "execution_count": 3,
     "metadata": {},
     "output_type": "execute_result"
    }
   ],
   "source": [
    "df_forbeslist_gdp['gender'].value_counts() / len(df_forbeslist_gdp) * 100"
   ]
  },
  {
   "cell_type": "code",
   "execution_count": 4,
   "metadata": {},
   "outputs": [],
   "source": [
    "def gender_distribution(dataframe, country):\n",
    "    filter_country = dataframe['country'] == country\n",
    "    plt.figure(figsize=(10,4))\n",
    "    dataframe[filter_country].groupby('gender')['name'].nunique().plot(kind='bar');\n",
    "    plt.title(f'The richest people distribution by gender in {country} according to Forbes List (2018)', fontsize=14)\n",
    "    plt.savefig(f'../data/results/gender_distribution.png')\n",
    "    return plt.show()"
   ]
  },
  {
   "cell_type": "code",
   "execution_count": 5,
   "metadata": {},
   "outputs": [
    {
     "data": {
      "image/png": "[encoded data removed]",
      "text/plain": [
       "<Figure size 720x288 with 1 Axes>"
      ]
     },
     "metadata": {
      "needs_background": "light"
     },
     "output_type": "display_data"
    }
   ],
   "source": [
    "gender_distribution(df_forbeslist_gdp, 'Mexico')"
   ]
  },
  {
   "cell_type": "markdown",
   "metadata": {},
   "source": [
    "2. Age Analysis"
   ]
  },
  {
   "cell_type": "code",
   "execution_count": 6,
   "metadata": {},
   "outputs": [
    {
     "data": {
      "text/plain": [
       "64.0"
      ]
     },
     "execution_count": 6,
     "metadata": {},
     "output_type": "execute_result"
    }
   ],
   "source": [
    "df_forbeslist_gdp['age'].mean().round(0)"
   ]
  },
  {
   "cell_type": "code",
   "execution_count": 7,
   "metadata": {},
   "outputs": [],
   "source": [
    "def age_distribution(dataframe, country):\n",
    "    filter_country = dataframe['country'] == country\n",
    "    plt.figure(figsize=(12,4))\n",
    "    dataframe[filter_country]['age'].plot(kind='hist',bins=[0,20,40,60,80,100],rwidth=0.9);\n",
    "    plt.title(f'The richest age distribution by gender in {country} according to Forbes List (2018)', fontsize=14)\n",
    "    plt.savefig(f'../data/results/age_distribution.png')\n",
    "    return plt.show()"
   ]
  },
  {
   "cell_type": "code",
   "execution_count": 8,
   "metadata": {},
   "outputs": [
    {
     "data": {
      "image/png": "[encoded data removed]",
      "text/plain": [
       "<Figure size 864x288 with 1 Axes>"
      ]
     },
     "metadata": {
      "needs_background": "light"
     },
     "output_type": "display_data"
    }
   ],
   "source": [
    "age_distribution(df_forbeslist_gdp, 'Mexico')"
   ]
  },
  {
   "cell_type": "markdown",
   "metadata": {},
   "source": [
    "3. Sector Analysis"
   ]
  },
  {
   "cell_type": "code",
   "execution_count": 9,
   "metadata": {},
   "outputs": [
    {
     "data": {
      "text/plain": [
       "Finance and Investments       13.613861\n",
       "Fashion & Retail              10.742574\n",
       "Real Estate                    9.950495\n",
       "Manufacturing                  9.603960\n",
       "Technology                     8.861386\n",
       "Diversified                    8.514851\n",
       "Food and Beverage              7.029703\n",
       "Healthcare                     6.386139\n",
       "Energy                         4.603960\n",
       "Metals & Mining                3.514851\n",
       "Media & Entertainment          3.465347\n",
       "Service                        3.366337\n",
       "Automotive                     2.673267\n",
       "Construction & Engineering     1.980198\n",
       "Logistics                      1.881188\n",
       "Telecom                        1.435644\n",
       "Gambling & Casinos             1.336634\n",
       "Sports                         0.990099\n",
       "Philanthropy/NGO               0.049505\n",
       "Name: company_sector, dtype: float64"
      ]
     },
     "execution_count": 9,
     "metadata": {},
     "output_type": "execute_result"
    }
   ],
   "source": [
    "df_forbeslist_gdp['company_sector'].value_counts() / len(df_forbeslist_gdp) * 100"
   ]
  },
  {
   "cell_type": "code",
   "execution_count": 10,
   "metadata": {},
   "outputs": [],
   "source": [
    "def sector_distribution(dataframe, country):\n",
    "    filter_country = dataframe['country'] == country\n",
    "    plt.figure(figsize=(14,6))\n",
    "    dataframe[filter_country].groupby('company_sector')['name'].nunique().plot(kind='barh');\n",
    "    plt.title(f'The richest people sector distribution in {country} according to Forbes List (2018)', fontsize=14)\n",
    "    plt.savefig(f'../data/results/sector_distribution.png')\n",
    "    return plt.show()"
   ]
  },
  {
   "cell_type": "code",
   "execution_count": 11,
   "metadata": {},
   "outputs": [
    {
     "data": {
      "image/png": "[encoded data removed]",
      "text/plain": [
       "<Figure size 1008x432 with 1 Axes>"
      ]
     },
     "metadata": {
      "needs_background": "light"
     },
     "output_type": "display_data"
    }
   ],
   "source": [
    "sector_distribution(df_forbeslist_gdp, 'Mexico')"
   ]
  },
  {
   "cell_type": "markdown",
   "metadata": {},
   "source": [
    "4. Worth Amount Analysis"
   ]
  },
  {
   "cell_type": "code",
   "execution_count": 12,
   "metadata": {},
   "outputs": [
    {
     "data": {
      "text/plain": [
       "4.0"
      ]
     },
     "execution_count": 12,
     "metadata": {},
     "output_type": "execute_result"
    }
   ],
   "source": [
    "df_forbeslist_gdp['worth_amount_(BUSD)'].mean().round(0)"
   ]
  },
  {
   "cell_type": "code",
   "execution_count": 13,
   "metadata": {},
   "outputs": [
    {
     "data": {
      "text/plain": [
       "2.0"
      ]
     },
     "execution_count": 13,
     "metadata": {},
     "output_type": "execute_result"
    }
   ],
   "source": [
    "df_forbeslist_gdp['worth_amount_(BUSD)'].median().round(0)"
   ]
  },
  {
   "cell_type": "code",
   "execution_count": 14,
   "metadata": {},
   "outputs": [],
   "source": [
    "def worth_amount(dataframe, country):\n",
    "    filter_country = dataframe['country'] == country\n",
    "    plt.figure(figsize=(14,4))\n",
    "    dataframe[filter_country]['worth_amount_(BUSD)'].plot(kind='hist',bins=[0,20,40,60,80,100,120],rwidth=0.8);\n",
    "    plt.title(f'Worth amount in {country} according to Forbes List (2018)', fontsize=14)\n",
    "    plt.savefig(f'../data/results/worth_amount.png')\n",
    "    return plt.show()"
   ]
  },
  {
   "cell_type": "code",
   "execution_count": 15,
   "metadata": {},
   "outputs": [
    {
     "data": {
      "image/png": "[encoded data removed]",
      "text/plain": [
       "<Figure size 1008x288 with 1 Axes>"
      ]
     },
     "metadata": {
      "needs_background": "light"
     },
     "output_type": "display_data"
    }
   ],
   "source": [
    "worth_amount(df_forbeslist_gdp, 'Mexico')"
   ]
  },
  {
   "cell_type": "markdown",
   "metadata": {},
   "source": [
    "5. Top 5 richest people of the list given the country."
   ]
  },
  {
   "cell_type": "code",
   "execution_count": 16,
   "metadata": {},
   "outputs": [],
   "source": [
    "def richest_people(dataframe, country):\n",
    "    filter_country = dataframe['country'] == country\n",
    "    result = dataframe[filter_country].nlargest(5, 'worth_amount_(BUSD)')\n",
    "    return result"
   ]
  },
  {
   "cell_type": "code",
   "execution_count": 17,
   "metadata": {},
   "outputs": [],
   "source": [
    "plot1 = richest_people(df_forbeslist_gdp, 'Mexico')"
   ]
  },
  {
   "cell_type": "code",
   "execution_count": 18,
   "metadata": {},
   "outputs": [
    {
     "data": {
      "text/html": [
       "<div>\n",
       "<style scoped>\n",
       "    .dataframe tbody tr th:only-of-type {\n",
       "        vertical-align: middle;\n",
       "    }\n",
       "\n",
       "    .dataframe tbody tr th {\n",
       "        vertical-align: top;\n",
       "    }\n",
       "\n",
       "    .dataframe thead th {\n",
       "        text-align: right;\n",
       "    }\n",
       "</style>\n",
       "<table border=\"1\" class=\"dataframe\">\n",
       "  <thead>\n",
       "    <tr style=\"text-align: right;\">\n",
       "      <th></th>\n",
       "      <th>name</th>\n",
       "      <th>gender</th>\n",
       "      <th>age</th>\n",
       "      <th>worth_amount_(BUSD)</th>\n",
       "      <th>country</th>\n",
       "      <th>company_sector</th>\n",
       "      <th>company_name</th>\n",
       "      <th>GDP_per_capita_USD</th>\n",
       "    </tr>\n",
       "  </thead>\n",
       "  <tbody>\n",
       "    <tr>\n",
       "      <th>603</th>\n",
       "      <td>Carlos Slim Helu</td>\n",
       "      <td>M</td>\n",
       "      <td>78.0</td>\n",
       "      <td>67.1</td>\n",
       "      <td>Mexico</td>\n",
       "      <td>Telecom</td>\n",
       "      <td>telecom</td>\n",
       "      <td>9698</td>\n",
       "    </tr>\n",
       "    <tr>\n",
       "      <th>604</th>\n",
       "      <td>German Larrea Mota Velasco</td>\n",
       "      <td>M</td>\n",
       "      <td>64.0</td>\n",
       "      <td>17.3</td>\n",
       "      <td>Mexico</td>\n",
       "      <td>Metals &amp; Mining</td>\n",
       "      <td>mining</td>\n",
       "      <td>9698</td>\n",
       "    </tr>\n",
       "    <tr>\n",
       "      <th>605</th>\n",
       "      <td>Alberto Bailleres Gonzalez</td>\n",
       "      <td>M</td>\n",
       "      <td>86.0</td>\n",
       "      <td>10.7</td>\n",
       "      <td>Mexico</td>\n",
       "      <td>Metals &amp; Mining</td>\n",
       "      <td>mining</td>\n",
       "      <td>9698</td>\n",
       "    </tr>\n",
       "    <tr>\n",
       "      <th>606</th>\n",
       "      <td>Ricardo Salinas Pliego</td>\n",
       "      <td>M</td>\n",
       "      <td>62.0</td>\n",
       "      <td>7.1</td>\n",
       "      <td>Mexico</td>\n",
       "      <td>Fashion &amp; Retail</td>\n",
       "      <td>retail, media</td>\n",
       "      <td>9698</td>\n",
       "    </tr>\n",
       "    <tr>\n",
       "      <th>607</th>\n",
       "      <td>Maria Asuncion Aramburuzabala</td>\n",
       "      <td>F</td>\n",
       "      <td>55.0</td>\n",
       "      <td>5.9</td>\n",
       "      <td>Mexico</td>\n",
       "      <td>Food and Beverage</td>\n",
       "      <td>beer, investments</td>\n",
       "      <td>9698</td>\n",
       "    </tr>\n",
       "  </tbody>\n",
       "</table>\n",
       "</div>"
      ],
      "text/plain": [
       "                              name gender   age  worth_amount_(BUSD) country  \\\n",
       "603               Carlos Slim Helu      M  78.0                 67.1  Mexico   \n",
       "604     German Larrea Mota Velasco      M  64.0                 17.3  Mexico   \n",
       "605     Alberto Bailleres Gonzalez      M  86.0                 10.7  Mexico   \n",
       "606         Ricardo Salinas Pliego      M  62.0                  7.1  Mexico   \n",
       "607  Maria Asuncion Aramburuzabala      F  55.0                  5.9  Mexico   \n",
       "\n",
       "        company_sector       company_name  GDP_per_capita_USD  \n",
       "603            Telecom            telecom                9698  \n",
       "604    Metals & Mining             mining                9698  \n",
       "605    Metals & Mining             mining                9698  \n",
       "606   Fashion & Retail      retail, media                9698  \n",
       "607  Food and Beverage  beer, investments                9698  "
      ]
     },
     "execution_count": 18,
     "metadata": {},
     "output_type": "execute_result"
    }
   ],
   "source": [
    "plot1"
   ]
  },
  {
   "cell_type": "code",
   "execution_count": 19,
   "metadata": {},
   "outputs": [],
   "source": [
    "label1 = plot1['name']\n",
    "BUSD1 = plot1['worth_amount_(BUSD)']"
   ]
  },
  {
   "cell_type": "code",
   "execution_count": 20,
   "metadata": {},
   "outputs": [],
   "source": [
    "def plot1_bar_x():\n",
    "    plt.figure(figsize=(15,4))\n",
    "    index = np.arange(len(label1))\n",
    "    plt.bar(index, BUSD1)\n",
    "    plt.ylabel('Billions of USD', fontsize=12)\n",
    "    plt.xticks(index, label1, fontsize=10, rotation=0)\n",
    "    country = plot1['country'].unique()[0]\n",
    "    plt.title(f'The 5 richest people in {country} according to Forbes List (2018)', fontsize=14)\n",
    "    plt.savefig(f'../data/results/5richest.png')\n",
    "    return plt.show()"
   ]
  },
  {
   "cell_type": "code",
   "execution_count": 21,
   "metadata": {},
   "outputs": [
    {
     "data": {
      "image/png": "[encoded data removed]",
      "text/plain": [
       "<Figure size 1080x288 with 1 Axes>"
      ]
     },
     "metadata": {
      "needs_background": "light"
     },
     "output_type": "display_data"
    }
   ],
   "source": [
    "plot1_bar_x()"
   ]
  },
  {
   "cell_type": "markdown",
   "metadata": {},
   "source": [
    "6. Gdp per capita compare to the average world's gdp per capita"
   ]
  },
  {
   "cell_type": "code",
   "execution_count": 22,
   "metadata": {},
   "outputs": [],
   "source": [
    "def gdp_per_capita(dataframe, country):\n",
    "    filter_country = df_forbeslist_gdp['country'] == country\n",
    "    gdp_percapita_array = df_forbeslist_gdp[filter_country]['GDP_per_capita_USD'].unique()\n",
    "    gdp_percapita = gdp_percapita_array[0]\n",
    "    gdp_percapita_unique = dataframe['GDP_per_capita_USD'].unique()\n",
    "    gdp_percapita_mean = round(gdp_percapita_unique.mean(), 1)\n",
    "    list_gdp_percapita = [gdp_percapita, gdp_percapita_mean]\n",
    "    return list_gdp_percapita"
   ]
  },
  {
   "cell_type": "code",
   "execution_count": 23,
   "metadata": {},
   "outputs": [],
   "source": [
    "list_gdp_percapita = gdp_per_capita(df_forbeslist_gdp, 'Mexico')"
   ]
  },
  {
   "cell_type": "code",
   "execution_count": 24,
   "metadata": {},
   "outputs": [],
   "source": [
    "label = ['Mexico GDP per capita', 'Average GDP per capita']\n",
    "BUSD = list_gdp_percapita"
   ]
  },
  {
   "cell_type": "code",
   "execution_count": 25,
   "metadata": {},
   "outputs": [],
   "source": [
    "def plot3_bar_x():\n",
    "    plt.figure(figsize=(15,4))\n",
    "    index = np.arange(len(label))\n",
    "    plt.bar(index, BUSD)\n",
    "    plt.ylabel('USD', fontsize=12)\n",
    "    plt.xticks(index, label, fontsize=12, rotation=0)\n",
    "    country = label[0]\n",
    "    plt.title(f'{country} compared to Average GDP per capita (2018)', fontsize=16)\n",
    "    plt.savefig(f'../data/results/gdppercapita.png')\n",
    "    return plt.show()"
   ]
  },
  {
   "cell_type": "code",
   "execution_count": 26,
   "metadata": {},
   "outputs": [
    {
     "data": {
      "image/png": "[encoded data removed]",
      "text/plain": [
       "<Figure size 1080x288 with 1 Axes>"
      ]
     },
     "metadata": {
      "needs_background": "light"
     },
     "output_type": "display_data"
    }
   ],
   "source": [
    "plot3_bar_x()"
   ]
  },
  {
   "cell_type": "code",
   "execution_count": 27,
   "metadata": {},
   "outputs": [],
   "source": [
    "def create_pdf():\n",
    "    pdf = FPDF(orientation='P', unit='mm', format='A4')\n",
    "    pdf.add_page()\n",
    "    pdf.set_font(\"Arial\", size=20)\n",
    "    pdf.cell(3.0,1.0,'Forbes List and GDP report 2018')\n",
    "    pdf.ln(6)\n",
    "    images = [f'../data/results/gdppercapita.png', f'../data/results/gender_distribution.png', f'../data/results/age_distribution.png', f'../data/results/sector_distribution.png', f'../data/results/worth_amount.png', f'../data/results/5richest.png']\n",
    "    for image in images:\n",
    "        pdf.image(image, w=pdf.w/1, h=pdf.h/4)\n",
    "        pdf.ln(0.15)\n",
    "    pdf.output(f'../data/results/report.pdf')\n",
    "    return \"PDF successfully created. You can find the report in the results folder\""
   ]
  },
  {
   "cell_type": "code",
   "execution_count": 28,
   "metadata": {},
   "outputs": [
    {
     "data": {
      "text/plain": [
       "'PDF successfully created. You can find the report in the results folder'"
      ]
     },
     "execution_count": 28,
     "metadata": {},
     "output_type": "execute_result"
    }
   ],
   "source": [
    "create_pdf()"
   ]
  }
 ],
 "metadata": {
  "kernelspec": {
   "display_name": "Python [conda env:data_env]",
   "language": "python",
   "name": "conda-env-data_env-py"
  },
  "language_info": {
   "codemirror_mode": {
    "name": "ipython",
    "version": 3
   },
   "file_extension": ".py",
   "mimetype": "text/x-python",
   "name": "python",
   "nbconvert_exporter": "python",
   "pygments_lexer": "ipython3",
   "version": "3.7.5"
  }
 },
 "nbformat": 4,
 "nbformat_minor": 4
}
