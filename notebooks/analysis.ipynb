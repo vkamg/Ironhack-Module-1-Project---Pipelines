{
 "cells": [
  {
   "cell_type": "code",
   "execution_count": 1,
   "metadata": {},
   "outputs": [],
   "source": [
    "import pandas as pd"
   ]
  },
  {
   "cell_type": "code",
   "execution_count": 2,
   "metadata": {},
   "outputs": [
    {
     "data": {
      "text/html": [
       "<div>\n",
       "<style scoped>\n",
       "    .dataframe tbody tr th:only-of-type {\n",
       "        vertical-align: middle;\n",
       "    }\n",
       "\n",
       "    .dataframe tbody tr th {\n",
       "        vertical-align: top;\n",
       "    }\n",
       "\n",
       "    .dataframe thead th {\n",
       "        text-align: right;\n",
       "    }\n",
       "</style>\n",
       "<table border=\"1\" class=\"dataframe\">\n",
       "  <thead>\n",
       "    <tr style=\"text-align: right;\">\n",
       "      <th></th>\n",
       "      <th>name</th>\n",
       "      <th>worth_amount_(BUSD)</th>\n",
       "      <th>country</th>\n",
       "      <th>company_sector</th>\n",
       "      <th>company_name</th>\n",
       "      <th>age</th>\n",
       "      <th>GDP_BUSD</th>\n",
       "      <th>GDP_per_capita_USD</th>\n",
       "    </tr>\n",
       "  </thead>\n",
       "  <tbody>\n",
       "    <tr>\n",
       "      <th>0</th>\n",
       "      <td>Jeff Bezos</td>\n",
       "      <td>112.0</td>\n",
       "      <td>United States</td>\n",
       "      <td>Technology</td>\n",
       "      <td>Amazon</td>\n",
       "      <td>54.0</td>\n",
       "      <td>20494100.0</td>\n",
       "      <td>62641.0</td>\n",
       "    </tr>\n",
       "    <tr>\n",
       "      <th>1</th>\n",
       "      <td>Bill Gates</td>\n",
       "      <td>90.0</td>\n",
       "      <td>United States</td>\n",
       "      <td>Technology</td>\n",
       "      <td>Microsoft</td>\n",
       "      <td>62.0</td>\n",
       "      <td>20494100.0</td>\n",
       "      <td>62641.0</td>\n",
       "    </tr>\n",
       "    <tr>\n",
       "      <th>2</th>\n",
       "      <td>Warren Buffett</td>\n",
       "      <td>84.0</td>\n",
       "      <td>United States</td>\n",
       "      <td>Finance and Investments</td>\n",
       "      <td>Berkshire Hathaway</td>\n",
       "      <td>87.0</td>\n",
       "      <td>20494100.0</td>\n",
       "      <td>62641.0</td>\n",
       "    </tr>\n",
       "    <tr>\n",
       "      <th>3</th>\n",
       "      <td>Mark Zuckerberg</td>\n",
       "      <td>71.0</td>\n",
       "      <td>United States</td>\n",
       "      <td>Technology</td>\n",
       "      <td>Facebook</td>\n",
       "      <td>33.0</td>\n",
       "      <td>20494100.0</td>\n",
       "      <td>62641.0</td>\n",
       "    </tr>\n",
       "    <tr>\n",
       "      <th>4</th>\n",
       "      <td>Charles Koch</td>\n",
       "      <td>60.0</td>\n",
       "      <td>United States</td>\n",
       "      <td>Diversified</td>\n",
       "      <td>Koch Industries</td>\n",
       "      <td>82.0</td>\n",
       "      <td>20494100.0</td>\n",
       "      <td>62641.0</td>\n",
       "    </tr>\n",
       "  </tbody>\n",
       "</table>\n",
       "</div>"
      ],
      "text/plain": [
       "              name  worth_amount_(BUSD)        country  \\\n",
       "0       Jeff Bezos                112.0  United States   \n",
       "1       Bill Gates                 90.0  United States   \n",
       "2   Warren Buffett                 84.0  United States   \n",
       "3  Mark Zuckerberg                 71.0  United States   \n",
       "4     Charles Koch                 60.0  United States   \n",
       "\n",
       "            company_sector        company_name   age    GDP_BUSD  \\\n",
       "0               Technology              Amazon  54.0  20494100.0   \n",
       "1               Technology           Microsoft  62.0  20494100.0   \n",
       "2  Finance and Investments  Berkshire Hathaway  87.0  20494100.0   \n",
       "3               Technology            Facebook  33.0  20494100.0   \n",
       "4              Diversified     Koch Industries  82.0  20494100.0   \n",
       "\n",
       "   GDP_per_capita_USD  \n",
       "0             62641.0  \n",
       "1             62641.0  \n",
       "2             62641.0  \n",
       "3             62641.0  \n",
       "4             62641.0  "
      ]
     },
     "execution_count": 2,
     "metadata": {},
     "output_type": "execute_result"
    }
   ],
   "source": [
    "df_forbeslist_gdp = pd.read_parquet(f'../data/processed/forbeslist_gdp.parquet')\n",
    "\n",
    "df_forbeslist_gdp.head()"
   ]
  },
  {
   "cell_type": "code",
   "execution_count": 3,
   "metadata": {},
   "outputs": [],
   "source": [
    "#5 richest people of the list given the country.\n",
    "\n",
    "def richest_people(dataframe, country):\n",
    "    filter_country = dataframe['country'] == country\n",
    "    result = dataframe[filter_country].nlargest(5, 'worth_amount_(BUSD)')\n",
    "    return result"
   ]
  },
  {
   "cell_type": "code",
   "execution_count": 4,
   "metadata": {},
   "outputs": [
    {
     "data": {
      "text/html": [
       "<div>\n",
       "<style scoped>\n",
       "    .dataframe tbody tr th:only-of-type {\n",
       "        vertical-align: middle;\n",
       "    }\n",
       "\n",
       "    .dataframe tbody tr th {\n",
       "        vertical-align: top;\n",
       "    }\n",
       "\n",
       "    .dataframe thead th {\n",
       "        text-align: right;\n",
       "    }\n",
       "</style>\n",
       "<table border=\"1\" class=\"dataframe\">\n",
       "  <thead>\n",
       "    <tr style=\"text-align: right;\">\n",
       "      <th></th>\n",
       "      <th>name</th>\n",
       "      <th>worth_amount_(BUSD)</th>\n",
       "      <th>country</th>\n",
       "      <th>company_sector</th>\n",
       "      <th>company_name</th>\n",
       "      <th>age</th>\n",
       "      <th>GDP_BUSD</th>\n",
       "      <th>GDP_per_capita_USD</th>\n",
       "    </tr>\n",
       "  </thead>\n",
       "  <tbody>\n",
       "    <tr>\n",
       "      <th>279</th>\n",
       "      <td>Ma Huateng</td>\n",
       "      <td>45.3</td>\n",
       "      <td>China</td>\n",
       "      <td>Technology</td>\n",
       "      <td>internet media</td>\n",
       "      <td>46.0</td>\n",
       "      <td>13608200.0</td>\n",
       "      <td>9771.0</td>\n",
       "    </tr>\n",
       "    <tr>\n",
       "      <th>280</th>\n",
       "      <td>He Xiangjian</td>\n",
       "      <td>20.1</td>\n",
       "      <td>China</td>\n",
       "      <td>Manufacturing</td>\n",
       "      <td>home appliances</td>\n",
       "      <td>75.0</td>\n",
       "      <td>13608200.0</td>\n",
       "      <td>9771.0</td>\n",
       "    </tr>\n",
       "    <tr>\n",
       "      <th>281</th>\n",
       "      <td>William Ding</td>\n",
       "      <td>17.4</td>\n",
       "      <td>China</td>\n",
       "      <td>Technology</td>\n",
       "      <td>online games</td>\n",
       "      <td>46.0</td>\n",
       "      <td>13608200.0</td>\n",
       "      <td>9771.0</td>\n",
       "    </tr>\n",
       "    <tr>\n",
       "      <th>282</th>\n",
       "      <td>Robin Li</td>\n",
       "      <td>12.0</td>\n",
       "      <td>China</td>\n",
       "      <td>Technology</td>\n",
       "      <td>internet search</td>\n",
       "      <td>49.0</td>\n",
       "      <td>13608200.0</td>\n",
       "      <td>9771.0</td>\n",
       "    </tr>\n",
       "    <tr>\n",
       "      <th>283</th>\n",
       "      <td>Wang Wenyin</td>\n",
       "      <td>11.7</td>\n",
       "      <td>China</td>\n",
       "      <td>Metals &amp; Mining</td>\n",
       "      <td>mining, copper products</td>\n",
       "      <td>50.0</td>\n",
       "      <td>13608200.0</td>\n",
       "      <td>9771.0</td>\n",
       "    </tr>\n",
       "  </tbody>\n",
       "</table>\n",
       "</div>"
      ],
      "text/plain": [
       "             name  worth_amount_(BUSD) country   company_sector  \\\n",
       "279    Ma Huateng                 45.3   China       Technology   \n",
       "280  He Xiangjian                 20.1   China    Manufacturing   \n",
       "281  William Ding                 17.4   China       Technology   \n",
       "282      Robin Li                 12.0   China       Technology   \n",
       "283   Wang Wenyin                 11.7   China  Metals & Mining   \n",
       "\n",
       "                company_name   age    GDP_BUSD  GDP_per_capita_USD  \n",
       "279           internet media  46.0  13608200.0              9771.0  \n",
       "280          home appliances  75.0  13608200.0              9771.0  \n",
       "281             online games  46.0  13608200.0              9771.0  \n",
       "282          internet search  49.0  13608200.0              9771.0  \n",
       "283  mining, copper products  50.0  13608200.0              9771.0  "
      ]
     },
     "execution_count": 4,
     "metadata": {},
     "output_type": "execute_result"
    }
   ],
   "source": [
    "richest_people(df_forbeslist_gdp, 'China')"
   ]
  },
  {
   "cell_type": "code",
   "execution_count": 5,
   "metadata": {},
   "outputs": [],
   "source": [
    "#country gdp compared to the average world's gdp\n",
    "\n",
    "def country_gdp(dataframe, country):\n",
    "    filter_country = df_forbeslist_gdp['country'] == country\n",
    "    gdp_country_array = df_forbeslist_gdp[filter_country]['GDP_BUSD'].unique()\n",
    "    gdp_country = gdp_country_array[0]\n",
    "    gdp_unique = dataframe['GDP_BUSD'].unique()\n",
    "    gdp_mean = round(gdp_unique.mean(), 1)\n",
    "    return gdp_country, gdp_mean"
   ]
  },
  {
   "cell_type": "code",
   "execution_count": 6,
   "metadata": {},
   "outputs": [
    {
     "data": {
      "text/plain": [
       "(2777540.0, 1423208.4)"
      ]
     },
     "execution_count": 6,
     "metadata": {},
     "output_type": "execute_result"
    }
   ],
   "source": [
    "country_gdp(df_forbeslist_gdp, 'France')"
   ]
  },
  {
   "cell_type": "code",
   "execution_count": 7,
   "metadata": {},
   "outputs": [],
   "source": [
    "#gdp per capita compare to the average world's gdp per capita\n",
    "\n",
    "def gdp_per_capita(dataframe, country):\n",
    "    filter_country = df_forbeslist_gdp['country'] == country\n",
    "    gdp_percapita_array = df_forbeslist_gdp[filter_country]['GDP_per_capita_USD'].unique()\n",
    "    gdp_percapita = gdp_percapita_array[0]\n",
    "    gdp_percapita_unique = dataframe['GDP_per_capita_USD'].unique()\n",
    "    gdp_percapita_mean = round(gdp_percapita_unique.mean(), 1)\n",
    "    return gdp_percapita, gdp_percapita_mean"
   ]
  },
  {
   "cell_type": "code",
   "execution_count": 8,
   "metadata": {},
   "outputs": [
    {
     "data": {
      "text/plain": [
       "(9771.0, 29882.8)"
      ]
     },
     "execution_count": 8,
     "metadata": {},
     "output_type": "execute_result"
    }
   ],
   "source": [
    "gdp_per_capita(df_forbeslist_gdp, 'China')"
   ]
  },
  {
   "cell_type": "code",
   "execution_count": null,
   "metadata": {},
   "outputs": [],
   "source": []
  }
 ],
 "metadata": {
  "kernelspec": {
   "display_name": "Python [conda env:data_env]",
   "language": "python",
   "name": "conda-env-data_env-py"
  },
  "language_info": {
   "codemirror_mode": {
    "name": "ipython",
    "version": 3
   },
   "file_extension": ".py",
   "mimetype": "text/x-python",
   "name": "python",
   "nbconvert_exporter": "python",
   "pygments_lexer": "ipython3",
   "version": "3.7.5"
  }
 },
 "nbformat": 4,
 "nbformat_minor": 4
}
