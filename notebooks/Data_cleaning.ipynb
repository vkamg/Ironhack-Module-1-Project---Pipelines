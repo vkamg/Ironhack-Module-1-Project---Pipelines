{
 "cells": [
  {
   "cell_type": "code",
   "execution_count": 1,
   "metadata": {},
   "outputs": [],
   "source": [
    "import pandas as pd\n",
    "from sqlalchemy import create_engine\n",
    "import re"
   ]
  },
  {
   "cell_type": "code",
   "execution_count": 2,
   "metadata": {},
   "outputs": [],
   "source": [
    "sqlitedb_path = '../data/raw/veronicamg.db'"
   ]
  },
  {
   "cell_type": "code",
   "execution_count": 3,
   "metadata": {},
   "outputs": [],
   "source": [
    "engine = create_engine(f'sqlite:///{sqlitedb_path}')"
   ]
  },
  {
   "cell_type": "code",
   "execution_count": 4,
   "metadata": {},
   "outputs": [
    {
     "data": {
      "text/plain": [
       "['business_info', 'personal_info', 'rank_info']"
      ]
     },
     "execution_count": 4,
     "metadata": {},
     "output_type": "execute_result"
    }
   ],
   "source": [
    "engine.table_names()"
   ]
  },
  {
   "cell_type": "code",
   "execution_count": 5,
   "metadata": {},
   "outputs": [
    {
     "data": {
      "text/html": [
       "<div>\n",
       "<style scoped>\n",
       "    .dataframe tbody tr th:only-of-type {\n",
       "        vertical-align: middle;\n",
       "    }\n",
       "\n",
       "    .dataframe tbody tr th {\n",
       "        vertical-align: top;\n",
       "    }\n",
       "\n",
       "    .dataframe thead th {\n",
       "        text-align: right;\n",
       "    }\n",
       "</style>\n",
       "<table border=\"1\" class=\"dataframe\">\n",
       "  <thead>\n",
       "    <tr style=\"text-align: right;\">\n",
       "      <th></th>\n",
       "      <th>id</th>\n",
       "      <th>Unnamed: 0</th>\n",
       "      <th>Source</th>\n",
       "      <th>worth</th>\n",
       "      <th>worthChange</th>\n",
       "      <th>realTimeWorth</th>\n",
       "      <th>realTimePosition</th>\n",
       "    </tr>\n",
       "  </thead>\n",
       "  <tbody>\n",
       "    <tr>\n",
       "      <th>0</th>\n",
       "      <td>1014</td>\n",
       "      <td>52</td>\n",
       "      <td>Technology  ==&gt; Amazon</td>\n",
       "      <td>112.0 BUSD</td>\n",
       "      <td>0.0 millions USD</td>\n",
       "      <td>None</td>\n",
       "      <td>1</td>\n",
       "    </tr>\n",
       "    <tr>\n",
       "      <th>1</th>\n",
       "      <td>1305</td>\n",
       "      <td>53</td>\n",
       "      <td>Technology  ==&gt; Microsoft</td>\n",
       "      <td>90.0 BUSD</td>\n",
       "      <td>-0.001 millions USD</td>\n",
       "      <td>None</td>\n",
       "      <td>2</td>\n",
       "    </tr>\n",
       "    <tr>\n",
       "      <th>2</th>\n",
       "      <td>3988</td>\n",
       "      <td>54</td>\n",
       "      <td>Finance and Investments  ==&gt; Berkshire Hathaway</td>\n",
       "      <td>84.0 BUSD</td>\n",
       "      <td>-0.002 millions USD</td>\n",
       "      <td>None</td>\n",
       "      <td>3</td>\n",
       "    </tr>\n",
       "    <tr>\n",
       "      <th>3</th>\n",
       "      <td>9380</td>\n",
       "      <td>55</td>\n",
       "      <td>Fashion &amp; Retail  ==&gt; LVMH</td>\n",
       "      <td>72.0 BUSD</td>\n",
       "      <td>0.0 millions USD</td>\n",
       "      <td>None</td>\n",
       "      <td>4</td>\n",
       "    </tr>\n",
       "    <tr>\n",
       "      <th>4</th>\n",
       "      <td>4001</td>\n",
       "      <td>56</td>\n",
       "      <td>Technology  ==&gt; Facebook</td>\n",
       "      <td>71.0 BUSD</td>\n",
       "      <td>0.0 millions USD</td>\n",
       "      <td>None</td>\n",
       "      <td>5</td>\n",
       "    </tr>\n",
       "  </tbody>\n",
       "</table>\n",
       "</div>"
      ],
      "text/plain": [
       "     id  Unnamed: 0                                           Source  \\\n",
       "0  1014          52                           Technology  ==> Amazon   \n",
       "1  1305          53                        Technology  ==> Microsoft   \n",
       "2  3988          54  Finance and Investments  ==> Berkshire Hathaway   \n",
       "3  9380          55                       Fashion & Retail  ==> LVMH   \n",
       "4  4001          56                         Technology  ==> Facebook   \n",
       "\n",
       "        worth          worthChange realTimeWorth  realTimePosition  \n",
       "0  112.0 BUSD     0.0 millions USD          None                 1  \n",
       "1   90.0 BUSD  -0.001 millions USD          None                 2  \n",
       "2   84.0 BUSD  -0.002 millions USD          None                 3  \n",
       "3   72.0 BUSD     0.0 millions USD          None                 4  \n",
       "4   71.0 BUSD     0.0 millions USD          None                 5  "
      ]
     },
     "execution_count": 5,
     "metadata": {},
     "output_type": "execute_result"
    }
   ],
   "source": [
    "df_business_info = pd.read_sql_query(\"select * from business_info\", engine)\n",
    "\n",
    "df_business_info.head()"
   ]
  },
  {
   "cell_type": "code",
   "execution_count": 6,
   "metadata": {},
   "outputs": [
    {
     "name": "stdout",
     "output_type": "stream",
     "text": [
      "<class 'pandas.core.frame.DataFrame'>\n",
      "RangeIndex: 2208 entries, 0 to 2207\n",
      "Data columns (total 7 columns):\n",
      "id                  2208 non-null int64\n",
      "Unnamed: 0          2208 non-null int64\n",
      "Source              2208 non-null object\n",
      "worth               2208 non-null object\n",
      "worthChange         2208 non-null object\n",
      "realTimeWorth       0 non-null object\n",
      "realTimePosition    2208 non-null int64\n",
      "dtypes: int64(3), object(4)\n",
      "memory usage: 120.9+ KB\n"
     ]
    }
   ],
   "source": [
    "df_business_info.info()"
   ]
  },
  {
   "cell_type": "code",
   "execution_count": 7,
   "metadata": {},
   "outputs": [
    {
     "data": {
      "text/plain": [
       "id                     0\n",
       "Unnamed: 0             0\n",
       "Source                 0\n",
       "worth                  0\n",
       "worthChange            0\n",
       "realTimeWorth       2208\n",
       "realTimePosition       0\n",
       "dtype: int64"
      ]
     },
     "execution_count": 7,
     "metadata": {},
     "output_type": "execute_result"
    }
   ],
   "source": [
    "df_business_info.isnull().sum()"
   ]
  },
  {
   "cell_type": "code",
   "execution_count": 8,
   "metadata": {},
   "outputs": [],
   "source": [
    "df_business_info_2 = df_business_info[['id','Unnamed: 0','Source','worth','worthChange','realTimePosition']]"
   ]
  },
  {
   "cell_type": "code",
   "execution_count": 9,
   "metadata": {},
   "outputs": [
    {
     "data": {
      "text/html": [
       "<div>\n",
       "<style scoped>\n",
       "    .dataframe tbody tr th:only-of-type {\n",
       "        vertical-align: middle;\n",
       "    }\n",
       "\n",
       "    .dataframe tbody tr th {\n",
       "        vertical-align: top;\n",
       "    }\n",
       "\n",
       "    .dataframe thead th {\n",
       "        text-align: right;\n",
       "    }\n",
       "</style>\n",
       "<table border=\"1\" class=\"dataframe\">\n",
       "  <thead>\n",
       "    <tr style=\"text-align: right;\">\n",
       "      <th></th>\n",
       "      <th>id</th>\n",
       "      <th>lastName</th>\n",
       "      <th>age</th>\n",
       "      <th>Unnamed: 0</th>\n",
       "      <th>gender</th>\n",
       "      <th>country</th>\n",
       "      <th>image</th>\n",
       "    </tr>\n",
       "  </thead>\n",
       "  <tbody>\n",
       "    <tr>\n",
       "      <th>0</th>\n",
       "      <td>1014</td>\n",
       "      <td>bEZOs</td>\n",
       "      <td>54 years old</td>\n",
       "      <td>52</td>\n",
       "      <td>None</td>\n",
       "      <td>United States</td>\n",
       "      <td>https://specials-images.forbesimg.com/imageser...</td>\n",
       "    </tr>\n",
       "    <tr>\n",
       "      <th>1</th>\n",
       "      <td>1305</td>\n",
       "      <td>gaTEs</td>\n",
       "      <td>62 years old</td>\n",
       "      <td>53</td>\n",
       "      <td>Male</td>\n",
       "      <td>USA</td>\n",
       "      <td>https://specials-images.forbesimg.com/imageser...</td>\n",
       "    </tr>\n",
       "    <tr>\n",
       "      <th>2</th>\n",
       "      <td>3988</td>\n",
       "      <td>bufFETt</td>\n",
       "      <td>87 years old</td>\n",
       "      <td>54</td>\n",
       "      <td>M</td>\n",
       "      <td>United States</td>\n",
       "      <td>https://specials-images.forbesimg.com/imageser...</td>\n",
       "    </tr>\n",
       "    <tr>\n",
       "      <th>3</th>\n",
       "      <td>9380</td>\n",
       "      <td>aRNAUlt</td>\n",
       "      <td>69 years old</td>\n",
       "      <td>55</td>\n",
       "      <td>None</td>\n",
       "      <td>None</td>\n",
       "      <td>https://specials-images.forbesimg.com/imageser...</td>\n",
       "    </tr>\n",
       "    <tr>\n",
       "      <th>4</th>\n",
       "      <td>4001</td>\n",
       "      <td>zucKERBERg</td>\n",
       "      <td>1985</td>\n",
       "      <td>56</td>\n",
       "      <td>M</td>\n",
       "      <td>United States</td>\n",
       "      <td>https://specials-images.forbesimg.com/imageser...</td>\n",
       "    </tr>\n",
       "  </tbody>\n",
       "</table>\n",
       "</div>"
      ],
      "text/plain": [
       "     id    lastName           age  Unnamed: 0 gender        country  \\\n",
       "0  1014       bEZOs  54 years old          52   None  United States   \n",
       "1  1305       gaTEs  62 years old          53   Male            USA   \n",
       "2  3988     bufFETt  87 years old          54      M  United States   \n",
       "3  9380     aRNAUlt  69 years old          55   None           None   \n",
       "4  4001  zucKERBERg          1985          56      M  United States   \n",
       "\n",
       "                                               image  \n",
       "0  https://specials-images.forbesimg.com/imageser...  \n",
       "1  https://specials-images.forbesimg.com/imageser...  \n",
       "2  https://specials-images.forbesimg.com/imageser...  \n",
       "3  https://specials-images.forbesimg.com/imageser...  \n",
       "4  https://specials-images.forbesimg.com/imageser...  "
      ]
     },
     "execution_count": 9,
     "metadata": {},
     "output_type": "execute_result"
    }
   ],
   "source": [
    "df_personal_info = pd.read_sql_query(\"select * from personal_info\", engine)\n",
    "\n",
    "df_personal_info.head()"
   ]
  },
  {
   "cell_type": "code",
   "execution_count": 10,
   "metadata": {},
   "outputs": [
    {
     "data": {
      "text/plain": [
       "id             0\n",
       "lastName       0\n",
       "age           65\n",
       "Unnamed: 0     0\n",
       "gender        13\n",
       "country        0\n",
       "image          0\n",
       "dtype: int64"
      ]
     },
     "execution_count": 10,
     "metadata": {},
     "output_type": "execute_result"
    }
   ],
   "source": [
    "df_personal_info.isnull().sum()"
   ]
  },
  {
   "cell_type": "code",
   "execution_count": 11,
   "metadata": {},
   "outputs": [
    {
     "data": {
      "text/html": [
       "<div>\n",
       "<style scoped>\n",
       "    .dataframe tbody tr th:only-of-type {\n",
       "        vertical-align: middle;\n",
       "    }\n",
       "\n",
       "    .dataframe tbody tr th {\n",
       "        vertical-align: top;\n",
       "    }\n",
       "\n",
       "    .dataframe thead th {\n",
       "        text-align: right;\n",
       "    }\n",
       "</style>\n",
       "<table border=\"1\" class=\"dataframe\">\n",
       "  <thead>\n",
       "    <tr style=\"text-align: right;\">\n",
       "      <th></th>\n",
       "      <th>id</th>\n",
       "      <th>name</th>\n",
       "      <th>position</th>\n",
       "      <th>Unnamed: 0</th>\n",
       "    </tr>\n",
       "  </thead>\n",
       "  <tbody>\n",
       "    <tr>\n",
       "      <th>0</th>\n",
       "      <td>9036</td>\n",
       "      <td>anant ASAVABHOKHIN &amp; FAMILY</td>\n",
       "      <td>NaN</td>\n",
       "      <td>0</td>\n",
       "    </tr>\n",
       "    <tr>\n",
       "      <th>1</th>\n",
       "      <td>4048</td>\n",
       "      <td>aRASH FERdowsi</td>\n",
       "      <td>NaN</td>\n",
       "      <td>1</td>\n",
       "    </tr>\n",
       "    <tr>\n",
       "      <th>2</th>\n",
       "      <td>7384</td>\n",
       "      <td>banthoon LAMSAM &amp; FAMILy</td>\n",
       "      <td>NaN</td>\n",
       "      <td>2</td>\n",
       "    </tr>\n",
       "    <tr>\n",
       "      <th>3</th>\n",
       "      <td>9738</td>\n",
       "      <td>bill adDERLEY &amp; family</td>\n",
       "      <td>NaN</td>\n",
       "      <td>3</td>\n",
       "    </tr>\n",
       "    <tr>\n",
       "      <th>4</th>\n",
       "      <td>5623</td>\n",
       "      <td>boris zINGARevich</td>\n",
       "      <td>NaN</td>\n",
       "      <td>4</td>\n",
       "    </tr>\n",
       "  </tbody>\n",
       "</table>\n",
       "</div>"
      ],
      "text/plain": [
       "     id                         name  position  Unnamed: 0\n",
       "0  9036  anant ASAVABHOKHIN & FAMILY       NaN           0\n",
       "1  4048               aRASH FERdowsi       NaN           1\n",
       "2  7384     banthoon LAMSAM & FAMILy       NaN           2\n",
       "3  9738       bill adDERLEY & family       NaN           3\n",
       "4  5623            boris zINGARevich       NaN           4"
      ]
     },
     "execution_count": 11,
     "metadata": {},
     "output_type": "execute_result"
    }
   ],
   "source": [
    "df_rank_info = pd.read_sql_query(\"select * from rank_info\", engine)\n",
    "\n",
    "df_rank_info.head()"
   ]
  },
  {
   "cell_type": "code",
   "execution_count": 12,
   "metadata": {},
   "outputs": [
    {
     "data": {
      "text/html": [
       "<div>\n",
       "<style scoped>\n",
       "    .dataframe tbody tr th:only-of-type {\n",
       "        vertical-align: middle;\n",
       "    }\n",
       "\n",
       "    .dataframe tbody tr th {\n",
       "        vertical-align: top;\n",
       "    }\n",
       "\n",
       "    .dataframe thead th {\n",
       "        text-align: right;\n",
       "    }\n",
       "</style>\n",
       "<table border=\"1\" class=\"dataframe\">\n",
       "  <thead>\n",
       "    <tr style=\"text-align: right;\">\n",
       "      <th></th>\n",
       "      <th>id_x</th>\n",
       "      <th>Unnamed: 0</th>\n",
       "      <th>Source</th>\n",
       "      <th>worth</th>\n",
       "      <th>worthChange</th>\n",
       "      <th>realTimePosition</th>\n",
       "      <th>id_y</th>\n",
       "      <th>lastName</th>\n",
       "      <th>age</th>\n",
       "      <th>gender</th>\n",
       "      <th>country</th>\n",
       "      <th>image</th>\n",
       "    </tr>\n",
       "  </thead>\n",
       "  <tbody>\n",
       "    <tr>\n",
       "      <th>0</th>\n",
       "      <td>1014</td>\n",
       "      <td>52</td>\n",
       "      <td>Technology  ==&gt; Amazon</td>\n",
       "      <td>112.0 BUSD</td>\n",
       "      <td>0.0 millions USD</td>\n",
       "      <td>1</td>\n",
       "      <td>1014</td>\n",
       "      <td>bEZOs</td>\n",
       "      <td>54 years old</td>\n",
       "      <td>None</td>\n",
       "      <td>United States</td>\n",
       "      <td>https://specials-images.forbesimg.com/imageser...</td>\n",
       "    </tr>\n",
       "    <tr>\n",
       "      <th>1</th>\n",
       "      <td>1305</td>\n",
       "      <td>53</td>\n",
       "      <td>Technology  ==&gt; Microsoft</td>\n",
       "      <td>90.0 BUSD</td>\n",
       "      <td>-0.001 millions USD</td>\n",
       "      <td>2</td>\n",
       "      <td>1305</td>\n",
       "      <td>gaTEs</td>\n",
       "      <td>62 years old</td>\n",
       "      <td>Male</td>\n",
       "      <td>USA</td>\n",
       "      <td>https://specials-images.forbesimg.com/imageser...</td>\n",
       "    </tr>\n",
       "    <tr>\n",
       "      <th>2</th>\n",
       "      <td>3988</td>\n",
       "      <td>54</td>\n",
       "      <td>Finance and Investments  ==&gt; Berkshire Hathaway</td>\n",
       "      <td>84.0 BUSD</td>\n",
       "      <td>-0.002 millions USD</td>\n",
       "      <td>3</td>\n",
       "      <td>3988</td>\n",
       "      <td>bufFETt</td>\n",
       "      <td>87 years old</td>\n",
       "      <td>M</td>\n",
       "      <td>United States</td>\n",
       "      <td>https://specials-images.forbesimg.com/imageser...</td>\n",
       "    </tr>\n",
       "    <tr>\n",
       "      <th>3</th>\n",
       "      <td>9380</td>\n",
       "      <td>55</td>\n",
       "      <td>Fashion &amp; Retail  ==&gt; LVMH</td>\n",
       "      <td>72.0 BUSD</td>\n",
       "      <td>0.0 millions USD</td>\n",
       "      <td>4</td>\n",
       "      <td>9380</td>\n",
       "      <td>aRNAUlt</td>\n",
       "      <td>69 years old</td>\n",
       "      <td>None</td>\n",
       "      <td>None</td>\n",
       "      <td>https://specials-images.forbesimg.com/imageser...</td>\n",
       "    </tr>\n",
       "    <tr>\n",
       "      <th>4</th>\n",
       "      <td>4001</td>\n",
       "      <td>56</td>\n",
       "      <td>Technology  ==&gt; Facebook</td>\n",
       "      <td>71.0 BUSD</td>\n",
       "      <td>0.0 millions USD</td>\n",
       "      <td>5</td>\n",
       "      <td>4001</td>\n",
       "      <td>zucKERBERg</td>\n",
       "      <td>1985</td>\n",
       "      <td>M</td>\n",
       "      <td>United States</td>\n",
       "      <td>https://specials-images.forbesimg.com/imageser...</td>\n",
       "    </tr>\n",
       "  </tbody>\n",
       "</table>\n",
       "</div>"
      ],
      "text/plain": [
       "   id_x  Unnamed: 0                                           Source  \\\n",
       "0  1014          52                           Technology  ==> Amazon   \n",
       "1  1305          53                        Technology  ==> Microsoft   \n",
       "2  3988          54  Finance and Investments  ==> Berkshire Hathaway   \n",
       "3  9380          55                       Fashion & Retail  ==> LVMH   \n",
       "4  4001          56                         Technology  ==> Facebook   \n",
       "\n",
       "        worth          worthChange  realTimePosition  id_y    lastName  \\\n",
       "0  112.0 BUSD     0.0 millions USD                 1  1014       bEZOs   \n",
       "1   90.0 BUSD  -0.001 millions USD                 2  1305       gaTEs   \n",
       "2   84.0 BUSD  -0.002 millions USD                 3  3988     bufFETt   \n",
       "3   72.0 BUSD     0.0 millions USD                 4  9380     aRNAUlt   \n",
       "4   71.0 BUSD     0.0 millions USD                 5  4001  zucKERBERg   \n",
       "\n",
       "            age gender        country  \\\n",
       "0  54 years old   None  United States   \n",
       "1  62 years old   Male            USA   \n",
       "2  87 years old      M  United States   \n",
       "3  69 years old   None           None   \n",
       "4          1985      M  United States   \n",
       "\n",
       "                                               image  \n",
       "0  https://specials-images.forbesimg.com/imageser...  \n",
       "1  https://specials-images.forbesimg.com/imageser...  \n",
       "2  https://specials-images.forbesimg.com/imageser...  \n",
       "3  https://specials-images.forbesimg.com/imageser...  \n",
       "4  https://specials-images.forbesimg.com/imageser...  "
      ]
     },
     "execution_count": 12,
     "metadata": {},
     "output_type": "execute_result"
    }
   ],
   "source": [
    "df_business_personal = pd.merge(df_business_info_2, df_personal_info, on='Unnamed: 0')\n",
    "df_business_personal.head()"
   ]
  },
  {
   "cell_type": "code",
   "execution_count": 13,
   "metadata": {},
   "outputs": [
    {
     "data": {
      "text/html": [
       "<div>\n",
       "<style scoped>\n",
       "    .dataframe tbody tr th:only-of-type {\n",
       "        vertical-align: middle;\n",
       "    }\n",
       "\n",
       "    .dataframe tbody tr th {\n",
       "        vertical-align: top;\n",
       "    }\n",
       "\n",
       "    .dataframe thead th {\n",
       "        text-align: right;\n",
       "    }\n",
       "</style>\n",
       "<table border=\"1\" class=\"dataframe\">\n",
       "  <thead>\n",
       "    <tr style=\"text-align: right;\">\n",
       "      <th></th>\n",
       "      <th>id_x</th>\n",
       "      <th>Unnamed: 0</th>\n",
       "      <th>Source</th>\n",
       "      <th>worth</th>\n",
       "      <th>worthChange</th>\n",
       "      <th>realTimePosition</th>\n",
       "      <th>id_y</th>\n",
       "      <th>lastName</th>\n",
       "      <th>age</th>\n",
       "      <th>gender</th>\n",
       "      <th>country</th>\n",
       "      <th>image</th>\n",
       "      <th>id</th>\n",
       "      <th>name</th>\n",
       "      <th>position</th>\n",
       "    </tr>\n",
       "  </thead>\n",
       "  <tbody>\n",
       "    <tr>\n",
       "      <th>0</th>\n",
       "      <td>1014</td>\n",
       "      <td>52</td>\n",
       "      <td>Technology  ==&gt; Amazon</td>\n",
       "      <td>112.0 BUSD</td>\n",
       "      <td>0.0 millions USD</td>\n",
       "      <td>1</td>\n",
       "      <td>1014</td>\n",
       "      <td>bEZOs</td>\n",
       "      <td>54 years old</td>\n",
       "      <td>None</td>\n",
       "      <td>United States</td>\n",
       "      <td>https://specials-images.forbesimg.com/imageser...</td>\n",
       "      <td>1014</td>\n",
       "      <td>JEFF BEZOs</td>\n",
       "      <td>1.0</td>\n",
       "    </tr>\n",
       "    <tr>\n",
       "      <th>1</th>\n",
       "      <td>1305</td>\n",
       "      <td>53</td>\n",
       "      <td>Technology  ==&gt; Microsoft</td>\n",
       "      <td>90.0 BUSD</td>\n",
       "      <td>-0.001 millions USD</td>\n",
       "      <td>2</td>\n",
       "      <td>1305</td>\n",
       "      <td>gaTEs</td>\n",
       "      <td>62 years old</td>\n",
       "      <td>Male</td>\n",
       "      <td>USA</td>\n",
       "      <td>https://specials-images.forbesimg.com/imageser...</td>\n",
       "      <td>1305</td>\n",
       "      <td>bilL GAtes</td>\n",
       "      <td>2.0</td>\n",
       "    </tr>\n",
       "    <tr>\n",
       "      <th>2</th>\n",
       "      <td>3988</td>\n",
       "      <td>54</td>\n",
       "      <td>Finance and Investments  ==&gt; Berkshire Hathaway</td>\n",
       "      <td>84.0 BUSD</td>\n",
       "      <td>-0.002 millions USD</td>\n",
       "      <td>3</td>\n",
       "      <td>3988</td>\n",
       "      <td>bufFETt</td>\n",
       "      <td>87 years old</td>\n",
       "      <td>M</td>\n",
       "      <td>United States</td>\n",
       "      <td>https://specials-images.forbesimg.com/imageser...</td>\n",
       "      <td>3988</td>\n",
       "      <td>wARREN BUFFett</td>\n",
       "      <td>3.0</td>\n",
       "    </tr>\n",
       "    <tr>\n",
       "      <th>3</th>\n",
       "      <td>9380</td>\n",
       "      <td>55</td>\n",
       "      <td>Fashion &amp; Retail  ==&gt; LVMH</td>\n",
       "      <td>72.0 BUSD</td>\n",
       "      <td>0.0 millions USD</td>\n",
       "      <td>4</td>\n",
       "      <td>9380</td>\n",
       "      <td>aRNAUlt</td>\n",
       "      <td>69 years old</td>\n",
       "      <td>None</td>\n",
       "      <td>None</td>\n",
       "      <td>https://specials-images.forbesimg.com/imageser...</td>\n",
       "      <td>9380</td>\n",
       "      <td>bERNARD ARnault</td>\n",
       "      <td>4.0</td>\n",
       "    </tr>\n",
       "    <tr>\n",
       "      <th>4</th>\n",
       "      <td>4001</td>\n",
       "      <td>56</td>\n",
       "      <td>Technology  ==&gt; Facebook</td>\n",
       "      <td>71.0 BUSD</td>\n",
       "      <td>0.0 millions USD</td>\n",
       "      <td>5</td>\n",
       "      <td>4001</td>\n",
       "      <td>zucKERBERg</td>\n",
       "      <td>1985</td>\n",
       "      <td>M</td>\n",
       "      <td>United States</td>\n",
       "      <td>https://specials-images.forbesimg.com/imageser...</td>\n",
       "      <td>4001</td>\n",
       "      <td>mark zUCKERBERG</td>\n",
       "      <td>5.0</td>\n",
       "    </tr>\n",
       "  </tbody>\n",
       "</table>\n",
       "</div>"
      ],
      "text/plain": [
       "   id_x  Unnamed: 0                                           Source  \\\n",
       "0  1014          52                           Technology  ==> Amazon   \n",
       "1  1305          53                        Technology  ==> Microsoft   \n",
       "2  3988          54  Finance and Investments  ==> Berkshire Hathaway   \n",
       "3  9380          55                       Fashion & Retail  ==> LVMH   \n",
       "4  4001          56                         Technology  ==> Facebook   \n",
       "\n",
       "        worth          worthChange  realTimePosition  id_y    lastName  \\\n",
       "0  112.0 BUSD     0.0 millions USD                 1  1014       bEZOs   \n",
       "1   90.0 BUSD  -0.001 millions USD                 2  1305       gaTEs   \n",
       "2   84.0 BUSD  -0.002 millions USD                 3  3988     bufFETt   \n",
       "3   72.0 BUSD     0.0 millions USD                 4  9380     aRNAUlt   \n",
       "4   71.0 BUSD     0.0 millions USD                 5  4001  zucKERBERg   \n",
       "\n",
       "            age gender        country  \\\n",
       "0  54 years old   None  United States   \n",
       "1  62 years old   Male            USA   \n",
       "2  87 years old      M  United States   \n",
       "3  69 years old   None           None   \n",
       "4          1985      M  United States   \n",
       "\n",
       "                                               image    id             name  \\\n",
       "0  https://specials-images.forbesimg.com/imageser...  1014       JEFF BEZOs   \n",
       "1  https://specials-images.forbesimg.com/imageser...  1305       bilL GAtes   \n",
       "2  https://specials-images.forbesimg.com/imageser...  3988   wARREN BUFFett   \n",
       "3  https://specials-images.forbesimg.com/imageser...  9380  bERNARD ARnault   \n",
       "4  https://specials-images.forbesimg.com/imageser...  4001  mark zUCKERBERG   \n",
       "\n",
       "   position  \n",
       "0       1.0  \n",
       "1       2.0  \n",
       "2       3.0  \n",
       "3       4.0  \n",
       "4       5.0  "
      ]
     },
     "execution_count": 13,
     "metadata": {},
     "output_type": "execute_result"
    }
   ],
   "source": [
    "df_merged = pd.merge(df_business_personal, df_rank_info, on='Unnamed: 0')\n",
    "df_merged.head()"
   ]
  },
  {
   "cell_type": "code",
   "execution_count": 14,
   "metadata": {},
   "outputs": [],
   "source": [
    "df_merged.drop(columns=['id_x', 'id_y'], inplace = True)"
   ]
  },
  {
   "cell_type": "code",
   "execution_count": 15,
   "metadata": {},
   "outputs": [
    {
     "data": {
      "text/plain": [
       "age       2.943841\n",
       "gender    0.588768\n",
       "dtype: float64"
      ]
     },
     "execution_count": 15,
     "metadata": {},
     "output_type": "execute_result"
    }
   ],
   "source": [
    "null_cols = df_merged.isnull().sum()\n",
    "\n",
    "null_cols[null_cols > 0]\n",
    "\n",
    "null_cols[null_cols > 0] / len(df_merged) * 100"
   ]
  },
  {
   "cell_type": "code",
   "execution_count": 16,
   "metadata": {},
   "outputs": [],
   "source": [
    "#As the percentage of null values is quite low I am not going to transform the null values."
   ]
  },
  {
   "cell_type": "raw",
   "metadata": {},
   "source": [
    "\"\"\"SOURCE COLUMN --> I'm going to split the 'Source' column in two columns:\n",
    "- Comnpany Sector\n",
    "- Company Name\"\"\""
   ]
  },
  {
   "cell_type": "code",
   "execution_count": 17,
   "metadata": {},
   "outputs": [],
   "source": [
    "def clean_source (s):\n",
    "    return s.split('  ==> ')"
   ]
  },
  {
   "cell_type": "code",
   "execution_count": 18,
   "metadata": {},
   "outputs": [],
   "source": [
    "df_merged['Source'] = df_merged['Source'].apply(clean_source)"
   ]
  },
  {
   "cell_type": "code",
   "execution_count": 19,
   "metadata": {},
   "outputs": [],
   "source": [
    "df_merged['company_name'] = df_merged['Source'].apply(lambda x : x[1:])\n",
    "df_merged['company_name'] = df_merged['company_name'].apply(lambda x : x[0])\n",
    "df_merged['company_sector'] = df_merged['Source'].apply(lambda x : x[:1])\n",
    "df_merged['company_sector'] = df_merged['company_sector'].apply(lambda x : x[0])"
   ]
  },
  {
   "cell_type": "code",
   "execution_count": 20,
   "metadata": {},
   "outputs": [
    {
     "data": {
      "text/html": [
       "<div>\n",
       "<style scoped>\n",
       "    .dataframe tbody tr th:only-of-type {\n",
       "        vertical-align: middle;\n",
       "    }\n",
       "\n",
       "    .dataframe tbody tr th {\n",
       "        vertical-align: top;\n",
       "    }\n",
       "\n",
       "    .dataframe thead th {\n",
       "        text-align: right;\n",
       "    }\n",
       "</style>\n",
       "<table border=\"1\" class=\"dataframe\">\n",
       "  <thead>\n",
       "    <tr style=\"text-align: right;\">\n",
       "      <th></th>\n",
       "      <th>Unnamed: 0</th>\n",
       "      <th>worth</th>\n",
       "      <th>worthChange</th>\n",
       "      <th>realTimePosition</th>\n",
       "      <th>lastName</th>\n",
       "      <th>age</th>\n",
       "      <th>gender</th>\n",
       "      <th>country</th>\n",
       "      <th>image</th>\n",
       "      <th>id</th>\n",
       "      <th>name</th>\n",
       "      <th>position</th>\n",
       "      <th>company_name</th>\n",
       "      <th>company_sector</th>\n",
       "    </tr>\n",
       "  </thead>\n",
       "  <tbody>\n",
       "    <tr>\n",
       "      <th>0</th>\n",
       "      <td>52</td>\n",
       "      <td>112.0 BUSD</td>\n",
       "      <td>0.0 millions USD</td>\n",
       "      <td>1</td>\n",
       "      <td>bEZOs</td>\n",
       "      <td>54 years old</td>\n",
       "      <td>None</td>\n",
       "      <td>United States</td>\n",
       "      <td>https://specials-images.forbesimg.com/imageser...</td>\n",
       "      <td>1014</td>\n",
       "      <td>JEFF BEZOs</td>\n",
       "      <td>1.0</td>\n",
       "      <td>Amazon</td>\n",
       "      <td>Technology</td>\n",
       "    </tr>\n",
       "    <tr>\n",
       "      <th>1</th>\n",
       "      <td>53</td>\n",
       "      <td>90.0 BUSD</td>\n",
       "      <td>-0.001 millions USD</td>\n",
       "      <td>2</td>\n",
       "      <td>gaTEs</td>\n",
       "      <td>62 years old</td>\n",
       "      <td>Male</td>\n",
       "      <td>USA</td>\n",
       "      <td>https://specials-images.forbesimg.com/imageser...</td>\n",
       "      <td>1305</td>\n",
       "      <td>bilL GAtes</td>\n",
       "      <td>2.0</td>\n",
       "      <td>Microsoft</td>\n",
       "      <td>Technology</td>\n",
       "    </tr>\n",
       "    <tr>\n",
       "      <th>2</th>\n",
       "      <td>54</td>\n",
       "      <td>84.0 BUSD</td>\n",
       "      <td>-0.002 millions USD</td>\n",
       "      <td>3</td>\n",
       "      <td>bufFETt</td>\n",
       "      <td>87 years old</td>\n",
       "      <td>M</td>\n",
       "      <td>United States</td>\n",
       "      <td>https://specials-images.forbesimg.com/imageser...</td>\n",
       "      <td>3988</td>\n",
       "      <td>wARREN BUFFett</td>\n",
       "      <td>3.0</td>\n",
       "      <td>Berkshire Hathaway</td>\n",
       "      <td>Finance and Investments</td>\n",
       "    </tr>\n",
       "    <tr>\n",
       "      <th>3</th>\n",
       "      <td>55</td>\n",
       "      <td>72.0 BUSD</td>\n",
       "      <td>0.0 millions USD</td>\n",
       "      <td>4</td>\n",
       "      <td>aRNAUlt</td>\n",
       "      <td>69 years old</td>\n",
       "      <td>None</td>\n",
       "      <td>None</td>\n",
       "      <td>https://specials-images.forbesimg.com/imageser...</td>\n",
       "      <td>9380</td>\n",
       "      <td>bERNARD ARnault</td>\n",
       "      <td>4.0</td>\n",
       "      <td>LVMH</td>\n",
       "      <td>Fashion &amp; Retail</td>\n",
       "    </tr>\n",
       "    <tr>\n",
       "      <th>4</th>\n",
       "      <td>56</td>\n",
       "      <td>71.0 BUSD</td>\n",
       "      <td>0.0 millions USD</td>\n",
       "      <td>5</td>\n",
       "      <td>zucKERBERg</td>\n",
       "      <td>1985</td>\n",
       "      <td>M</td>\n",
       "      <td>United States</td>\n",
       "      <td>https://specials-images.forbesimg.com/imageser...</td>\n",
       "      <td>4001</td>\n",
       "      <td>mark zUCKERBERG</td>\n",
       "      <td>5.0</td>\n",
       "      <td>Facebook</td>\n",
       "      <td>Technology</td>\n",
       "    </tr>\n",
       "  </tbody>\n",
       "</table>\n",
       "</div>"
      ],
      "text/plain": [
       "   Unnamed: 0       worth          worthChange  realTimePosition    lastName  \\\n",
       "0          52  112.0 BUSD     0.0 millions USD                 1       bEZOs   \n",
       "1          53   90.0 BUSD  -0.001 millions USD                 2       gaTEs   \n",
       "2          54   84.0 BUSD  -0.002 millions USD                 3     bufFETt   \n",
       "3          55   72.0 BUSD     0.0 millions USD                 4     aRNAUlt   \n",
       "4          56   71.0 BUSD     0.0 millions USD                 5  zucKERBERg   \n",
       "\n",
       "            age gender        country  \\\n",
       "0  54 years old   None  United States   \n",
       "1  62 years old   Male            USA   \n",
       "2  87 years old      M  United States   \n",
       "3  69 years old   None           None   \n",
       "4          1985      M  United States   \n",
       "\n",
       "                                               image    id             name  \\\n",
       "0  https://specials-images.forbesimg.com/imageser...  1014       JEFF BEZOs   \n",
       "1  https://specials-images.forbesimg.com/imageser...  1305       bilL GAtes   \n",
       "2  https://specials-images.forbesimg.com/imageser...  3988   wARREN BUFFett   \n",
       "3  https://specials-images.forbesimg.com/imageser...  9380  bERNARD ARnault   \n",
       "4  https://specials-images.forbesimg.com/imageser...  4001  mark zUCKERBERG   \n",
       "\n",
       "   position        company_name           company_sector  \n",
       "0       1.0              Amazon               Technology  \n",
       "1       2.0           Microsoft               Technology  \n",
       "2       3.0  Berkshire Hathaway  Finance and Investments  \n",
       "3       4.0                LVMH         Fashion & Retail  \n",
       "4       5.0            Facebook               Technology  "
      ]
     },
     "execution_count": 20,
     "metadata": {},
     "output_type": "execute_result"
    }
   ],
   "source": [
    "df_merged.drop(columns = ['Source'], inplace = True)\n",
    "df_merged.head()"
   ]
  },
  {
   "cell_type": "raw",
   "metadata": {},
   "source": [
    "\"\"\"WORTH COLUMN --> I'm going to change the type of the worth column from object type to float type\"\"\""
   ]
  },
  {
   "cell_type": "code",
   "execution_count": 21,
   "metadata": {},
   "outputs": [
    {
     "data": {
      "text/plain": [
       "array(['BUSD'], dtype=object)"
      ]
     },
     "execution_count": 21,
     "metadata": {},
     "output_type": "execute_result"
    }
   ],
   "source": [
    "#First let's see if all quantities are expressed in the same unit of measure and in the same currency.\n",
    "df_merged['worth'] = df_merged['worth'].apply(lambda x : x.split(' '))\n",
    "df_merged['worth_unit'] = df_merged['worth'].apply(lambda x : x[1:])\n",
    "df_merged['worth_unit'] = df_merged['worth_unit'].apply(lambda x : x[0])\n",
    "df_merged.worth_unit.unique()"
   ]
  },
  {
   "cell_type": "code",
   "execution_count": 22,
   "metadata": {},
   "outputs": [],
   "source": [
    "\"\"\"Now that we know that all the amounts are in the same unit and in the same currency, \n",
    "let's change the type of values in the column.\"\"\"\n",
    "df_merged[\"worth_amount_(BUSD)\"] = df_merged['worth'].apply(lambda x : x[:1])\n",
    "df_merged[\"worth_amount_(BUSD)\"] = df_merged[\"worth_amount_(BUSD)\"].apply(lambda x : x[0])\n",
    "df_merged[\"worth_amount_(BUSD)\"] = df_merged[\"worth_amount_(BUSD)\"].astype(float)"
   ]
  },
  {
   "cell_type": "code",
   "execution_count": 23,
   "metadata": {},
   "outputs": [
    {
     "data": {
      "text/html": [
       "<div>\n",
       "<style scoped>\n",
       "    .dataframe tbody tr th:only-of-type {\n",
       "        vertical-align: middle;\n",
       "    }\n",
       "\n",
       "    .dataframe tbody tr th {\n",
       "        vertical-align: top;\n",
       "    }\n",
       "\n",
       "    .dataframe thead th {\n",
       "        text-align: right;\n",
       "    }\n",
       "</style>\n",
       "<table border=\"1\" class=\"dataframe\">\n",
       "  <thead>\n",
       "    <tr style=\"text-align: right;\">\n",
       "      <th></th>\n",
       "      <th>Unnamed: 0</th>\n",
       "      <th>worthChange</th>\n",
       "      <th>realTimePosition</th>\n",
       "      <th>lastName</th>\n",
       "      <th>age</th>\n",
       "      <th>gender</th>\n",
       "      <th>country</th>\n",
       "      <th>image</th>\n",
       "      <th>id</th>\n",
       "      <th>name</th>\n",
       "      <th>position</th>\n",
       "      <th>company_name</th>\n",
       "      <th>company_sector</th>\n",
       "      <th>worth_amount_(BUSD)</th>\n",
       "    </tr>\n",
       "  </thead>\n",
       "  <tbody>\n",
       "    <tr>\n",
       "      <th>0</th>\n",
       "      <td>52</td>\n",
       "      <td>0.0 millions USD</td>\n",
       "      <td>1</td>\n",
       "      <td>bEZOs</td>\n",
       "      <td>54 years old</td>\n",
       "      <td>None</td>\n",
       "      <td>United States</td>\n",
       "      <td>https://specials-images.forbesimg.com/imageser...</td>\n",
       "      <td>1014</td>\n",
       "      <td>JEFF BEZOs</td>\n",
       "      <td>1.0</td>\n",
       "      <td>Amazon</td>\n",
       "      <td>Technology</td>\n",
       "      <td>112.0</td>\n",
       "    </tr>\n",
       "    <tr>\n",
       "      <th>1</th>\n",
       "      <td>53</td>\n",
       "      <td>-0.001 millions USD</td>\n",
       "      <td>2</td>\n",
       "      <td>gaTEs</td>\n",
       "      <td>62 years old</td>\n",
       "      <td>Male</td>\n",
       "      <td>USA</td>\n",
       "      <td>https://specials-images.forbesimg.com/imageser...</td>\n",
       "      <td>1305</td>\n",
       "      <td>bilL GAtes</td>\n",
       "      <td>2.0</td>\n",
       "      <td>Microsoft</td>\n",
       "      <td>Technology</td>\n",
       "      <td>90.0</td>\n",
       "    </tr>\n",
       "    <tr>\n",
       "      <th>2</th>\n",
       "      <td>54</td>\n",
       "      <td>-0.002 millions USD</td>\n",
       "      <td>3</td>\n",
       "      <td>bufFETt</td>\n",
       "      <td>87 years old</td>\n",
       "      <td>M</td>\n",
       "      <td>United States</td>\n",
       "      <td>https://specials-images.forbesimg.com/imageser...</td>\n",
       "      <td>3988</td>\n",
       "      <td>wARREN BUFFett</td>\n",
       "      <td>3.0</td>\n",
       "      <td>Berkshire Hathaway</td>\n",
       "      <td>Finance and Investments</td>\n",
       "      <td>84.0</td>\n",
       "    </tr>\n",
       "    <tr>\n",
       "      <th>3</th>\n",
       "      <td>55</td>\n",
       "      <td>0.0 millions USD</td>\n",
       "      <td>4</td>\n",
       "      <td>aRNAUlt</td>\n",
       "      <td>69 years old</td>\n",
       "      <td>None</td>\n",
       "      <td>None</td>\n",
       "      <td>https://specials-images.forbesimg.com/imageser...</td>\n",
       "      <td>9380</td>\n",
       "      <td>bERNARD ARnault</td>\n",
       "      <td>4.0</td>\n",
       "      <td>LVMH</td>\n",
       "      <td>Fashion &amp; Retail</td>\n",
       "      <td>72.0</td>\n",
       "    </tr>\n",
       "    <tr>\n",
       "      <th>4</th>\n",
       "      <td>56</td>\n",
       "      <td>0.0 millions USD</td>\n",
       "      <td>5</td>\n",
       "      <td>zucKERBERg</td>\n",
       "      <td>1985</td>\n",
       "      <td>M</td>\n",
       "      <td>United States</td>\n",
       "      <td>https://specials-images.forbesimg.com/imageser...</td>\n",
       "      <td>4001</td>\n",
       "      <td>mark zUCKERBERG</td>\n",
       "      <td>5.0</td>\n",
       "      <td>Facebook</td>\n",
       "      <td>Technology</td>\n",
       "      <td>71.0</td>\n",
       "    </tr>\n",
       "  </tbody>\n",
       "</table>\n",
       "</div>"
      ],
      "text/plain": [
       "   Unnamed: 0          worthChange  realTimePosition    lastName  \\\n",
       "0          52     0.0 millions USD                 1       bEZOs   \n",
       "1          53  -0.001 millions USD                 2       gaTEs   \n",
       "2          54  -0.002 millions USD                 3     bufFETt   \n",
       "3          55     0.0 millions USD                 4     aRNAUlt   \n",
       "4          56     0.0 millions USD                 5  zucKERBERg   \n",
       "\n",
       "            age gender        country  \\\n",
       "0  54 years old   None  United States   \n",
       "1  62 years old   Male            USA   \n",
       "2  87 years old      M  United States   \n",
       "3  69 years old   None           None   \n",
       "4          1985      M  United States   \n",
       "\n",
       "                                               image    id             name  \\\n",
       "0  https://specials-images.forbesimg.com/imageser...  1014       JEFF BEZOs   \n",
       "1  https://specials-images.forbesimg.com/imageser...  1305       bilL GAtes   \n",
       "2  https://specials-images.forbesimg.com/imageser...  3988   wARREN BUFFett   \n",
       "3  https://specials-images.forbesimg.com/imageser...  9380  bERNARD ARnault   \n",
       "4  https://specials-images.forbesimg.com/imageser...  4001  mark zUCKERBERG   \n",
       "\n",
       "   position        company_name           company_sector  worth_amount_(BUSD)  \n",
       "0       1.0              Amazon               Technology                112.0  \n",
       "1       2.0           Microsoft               Technology                 90.0  \n",
       "2       3.0  Berkshire Hathaway  Finance and Investments                 84.0  \n",
       "3       4.0                LVMH         Fashion & Retail                 72.0  \n",
       "4       5.0            Facebook               Technology                 71.0  "
      ]
     },
     "execution_count": 23,
     "metadata": {},
     "output_type": "execute_result"
    }
   ],
   "source": [
    "df_merged.drop(columns = ['worth_unit','worth'], inplace = True)\n",
    "df_merged.head()"
   ]
  },
  {
   "cell_type": "raw",
   "metadata": {},
   "source": [
    "\"\"\"AGE COLUMN --> I'm going to change the type of the age column from object type to float type.\"\"\""
   ]
  },
  {
   "cell_type": "code",
   "execution_count": 24,
   "metadata": {},
   "outputs": [
    {
     "data": {
      "text/plain": [
       "array(['54 years old', '62 years old', '87 years old', '69 years old',\n",
       "       '1985', '82 years old', '78 years old', '73 years old',\n",
       "       '76 years old', '45 years old', '44 years old', '70 years old',\n",
       "       '68 years old', '46 years old', '64 years old', '61 years old',\n",
       "       '53 years old', '84 years old', '90 years old', '59 years old',\n",
       "       '63 years old', '66 years old', '80 years old', '81 years old',\n",
       "       '56 years old', '79 years old', '74 years old', '60 years old',\n",
       "       '93 years old', '52 years old', '1983', '65 years old',\n",
       "       '83 years old', '67 years old', '75 years old', '89 years old',\n",
       "       None, '72 years old', '48 years old', '77 years old',\n",
       "       '86 years old', '57 years old', '1988', '55 years old',\n",
       "       '94 years old', '47 years old', '71 years old', '92 years old',\n",
       "       '88 years old', '85 years old', '49 years old', '51 years old',\n",
       "       '50 years old', '43 years old', '42 years old', '91 years old',\n",
       "       '58 years old', '1984', '38 years old', '1982', '95 years old',\n",
       "       '39 years old', '41 years old', '40 years old', '1990', '1991',\n",
       "       '97 years old', '1986', '99 years old', '1994', '1998', '1996',\n",
       "       '96 years old', '1987', '1989', '1992'], dtype=object)"
      ]
     },
     "execution_count": 24,
     "metadata": {},
     "output_type": "execute_result"
    }
   ],
   "source": [
    "#Let's see if the format is the same in all records.\n",
    "df_merged.age.unique()"
   ]
  },
  {
   "cell_type": "code",
   "execution_count": 25,
   "metadata": {},
   "outputs": [],
   "source": [
    "#Let's create a function to change the data type.\n",
    "def change_age(age):\n",
    "    if age == None:\n",
    "        return None\n",
    "    elif re.search('years old', age) is not None:\n",
    "        num = re.sub('[a-zA-Z ]', '', age)\n",
    "        return int(num)\n",
    "    else:\n",
    "        year = int(age)\n",
    "        age_2018 = 2018 - year\n",
    "        return int(age_2018)"
   ]
  },
  {
   "cell_type": "code",
   "execution_count": 26,
   "metadata": {},
   "outputs": [
    {
     "name": "stdout",
     "output_type": "stream",
     "text": [
      "<class 'pandas.core.frame.DataFrame'>\n",
      "Int64Index: 2208 entries, 0 to 2207\n",
      "Data columns (total 14 columns):\n",
      "Unnamed: 0             2208 non-null int64\n",
      "worthChange            2208 non-null object\n",
      "realTimePosition       2208 non-null int64\n",
      "lastName               2208 non-null object\n",
      "age                    2143 non-null float64\n",
      "gender                 2195 non-null object\n",
      "country                2208 non-null object\n",
      "image                  2208 non-null object\n",
      "id                     2208 non-null int64\n",
      "name                   2208 non-null object\n",
      "position               2208 non-null float64\n",
      "company_name           2208 non-null object\n",
      "company_sector         2208 non-null object\n",
      "worth_amount_(BUSD)    2208 non-null float64\n",
      "dtypes: float64(3), int64(3), object(8)\n",
      "memory usage: 258.8+ KB\n"
     ]
    }
   ],
   "source": [
    "#Now, let's apply the function to the column 'age'.\n",
    "df_merged['age'] = df_merged['age'].apply(change_age)\n",
    "df_merged.info()"
   ]
  },
  {
   "cell_type": "raw",
   "metadata": {},
   "source": [
    "\"\"\"COUNTRY COLUMN --> I'm going to standardize the the name of the countries listed in the column.\"\"\""
   ]
  },
  {
   "cell_type": "code",
   "execution_count": 27,
   "metadata": {},
   "outputs": [
    {
     "data": {
      "text/plain": [
       "array(['United States', 'USA', 'None', 'China', 'Hong Kong', 'Germany',\n",
       "       'Brazil', 'France', 'Austria', 'Japan',\n",
       "       \"People's Republic of China\", 'Russia', 'South Korea', 'Thailand',\n",
       "       'Ireland', 'Indonesia', 'Australia', 'Sweden', 'United Kingdom',\n",
       "       'Netherlands', 'Malaysia', 'India', 'Nigeria', 'Mexico', 'Canada',\n",
       "       'Italy', 'Taiwan', 'South Africa', 'Singapore', 'Norway',\n",
       "       'Belgium', 'United Arab Emirates', 'Philippines', 'Israel',\n",
       "       'Switzerland', 'UK', 'Denmark', 'Portugal', 'Turkey', 'Georgia',\n",
       "       'Venezuela', 'Swaziland', 'Oman', 'Poland', 'Chile', 'Cyprus',\n",
       "       'Vietnam', 'Spain', 'Czech Republic', 'UAE', 'Lebanon',\n",
       "       'Kazakhstan', 'Morocco', 'Monaco', 'Finland', 'Iceland', 'Egypt',\n",
       "       'Peru', 'Argentina', 'St. Kitts and Nevis', 'Ukraine', 'Nepal',\n",
       "       'Kuwait', 'Zimbabwe', 'Qatar'], dtype=object)"
      ]
     },
     "execution_count": 27,
     "metadata": {},
     "output_type": "execute_result"
    }
   ],
   "source": [
    "#Let's see the unique values\n",
    "df_merged.country.unique()"
   ]
  },
  {
   "cell_type": "code",
   "execution_count": 28,
   "metadata": {},
   "outputs": [],
   "source": [
    "#Let's create a function to standardize the name of the countries.\n",
    "def country_clean(country):\n",
    "    if country is None:\n",
    "        return None \n",
    "    elif re.search('USA', country) is not None:\n",
    "        return 'United States'\n",
    "    elif re.search('China', country) is not None:\n",
    "        return 'China'\n",
    "    elif re.search('UK', country) is not None:\n",
    "        return 'United Kingdom'\n",
    "    elif re.search('UAE', country) is not None:\n",
    "        return 'United Arab Emirates'\n",
    "    elif re.search('None', country) is not None:\n",
    "        return None\n",
    "    else:\n",
    "        return country"
   ]
  },
  {
   "cell_type": "code",
   "execution_count": 29,
   "metadata": {},
   "outputs": [],
   "source": [
    "#Now, let's apply the function to the column 'age'.\n",
    "df_merged['country'] = df_merged['country'].apply(country_clean)"
   ]
  },
  {
   "cell_type": "code",
   "execution_count": 30,
   "metadata": {},
   "outputs": [
    {
     "data": {
      "text/plain": [
       "array(['United States', None, 'China', 'Hong Kong', 'Germany', 'Brazil',\n",
       "       'France', 'Austria', 'Japan', 'Russia', 'South Korea', 'Thailand',\n",
       "       'Ireland', 'Indonesia', 'Australia', 'Sweden', 'United Kingdom',\n",
       "       'Netherlands', 'Malaysia', 'India', 'Nigeria', 'Mexico', 'Canada',\n",
       "       'Italy', 'Taiwan', 'South Africa', 'Singapore', 'Norway',\n",
       "       'Belgium', 'United Arab Emirates', 'Philippines', 'Israel',\n",
       "       'Switzerland', 'Denmark', 'Portugal', 'Turkey', 'Georgia',\n",
       "       'Venezuela', 'Swaziland', 'Oman', 'Poland', 'Chile', 'Cyprus',\n",
       "       'Vietnam', 'Spain', 'Czech Republic', 'Lebanon', 'Kazakhstan',\n",
       "       'Morocco', 'Monaco', 'Finland', 'Iceland', 'Egypt', 'Peru',\n",
       "       'Argentina', 'St. Kitts and Nevis', 'Ukraine', 'Nepal', 'Kuwait',\n",
       "       'Zimbabwe', 'Qatar'], dtype=object)"
      ]
     },
     "execution_count": 30,
     "metadata": {},
     "output_type": "execute_result"
    }
   ],
   "source": [
    "df_merged.country.unique()"
   ]
  },
  {
   "cell_type": "code",
   "execution_count": 31,
   "metadata": {},
   "outputs": [
    {
     "data": {
      "text/plain": [
       "age         2.943841\n",
       "gender      0.588768\n",
       "country    60.190217\n",
       "dtype: float64"
      ]
     },
     "execution_count": 31,
     "metadata": {},
     "output_type": "execute_result"
    }
   ],
   "source": [
    "null_cols = df_merged.isnull().sum()\n",
    "\n",
    "null_cols[null_cols > 0]\n",
    "\n",
    "null_cols[null_cols > 0] / len(df_merged) * 100"
   ]
  },
  {
   "cell_type": "code",
   "execution_count": 32,
   "metadata": {},
   "outputs": [],
   "source": [
    "def capitalize(name):\n",
    "    return name.title()"
   ]
  },
  {
   "cell_type": "code",
   "execution_count": 33,
   "metadata": {},
   "outputs": [],
   "source": [
    "df_merged['name'] = df_merged['name'].apply(capitalize)\n",
    "df_merged['lastName'] = df_merged['lastName'].apply(capitalize)"
   ]
  },
  {
   "cell_type": "code",
   "execution_count": 34,
   "metadata": {},
   "outputs": [
    {
     "data": {
      "text/html": [
       "<div>\n",
       "<style scoped>\n",
       "    .dataframe tbody tr th:only-of-type {\n",
       "        vertical-align: middle;\n",
       "    }\n",
       "\n",
       "    .dataframe tbody tr th {\n",
       "        vertical-align: top;\n",
       "    }\n",
       "\n",
       "    .dataframe thead th {\n",
       "        text-align: right;\n",
       "    }\n",
       "</style>\n",
       "<table border=\"1\" class=\"dataframe\">\n",
       "  <thead>\n",
       "    <tr style=\"text-align: right;\">\n",
       "      <th></th>\n",
       "      <th>Unnamed: 0</th>\n",
       "      <th>worthChange</th>\n",
       "      <th>realTimePosition</th>\n",
       "      <th>lastName</th>\n",
       "      <th>age</th>\n",
       "      <th>gender</th>\n",
       "      <th>country</th>\n",
       "      <th>image</th>\n",
       "      <th>id</th>\n",
       "      <th>name</th>\n",
       "      <th>position</th>\n",
       "      <th>company_name</th>\n",
       "      <th>company_sector</th>\n",
       "      <th>worth_amount_(BUSD)</th>\n",
       "    </tr>\n",
       "  </thead>\n",
       "  <tbody>\n",
       "    <tr>\n",
       "      <th>0</th>\n",
       "      <td>52</td>\n",
       "      <td>0.0 millions USD</td>\n",
       "      <td>1</td>\n",
       "      <td>Bezos</td>\n",
       "      <td>54.0</td>\n",
       "      <td>None</td>\n",
       "      <td>United States</td>\n",
       "      <td>https://specials-images.forbesimg.com/imageser...</td>\n",
       "      <td>1014</td>\n",
       "      <td>Jeff Bezos</td>\n",
       "      <td>1.0</td>\n",
       "      <td>Amazon</td>\n",
       "      <td>Technology</td>\n",
       "      <td>112.0</td>\n",
       "    </tr>\n",
       "    <tr>\n",
       "      <th>1</th>\n",
       "      <td>53</td>\n",
       "      <td>-0.001 millions USD</td>\n",
       "      <td>2</td>\n",
       "      <td>Gates</td>\n",
       "      <td>62.0</td>\n",
       "      <td>Male</td>\n",
       "      <td>United States</td>\n",
       "      <td>https://specials-images.forbesimg.com/imageser...</td>\n",
       "      <td>1305</td>\n",
       "      <td>Bill Gates</td>\n",
       "      <td>2.0</td>\n",
       "      <td>Microsoft</td>\n",
       "      <td>Technology</td>\n",
       "      <td>90.0</td>\n",
       "    </tr>\n",
       "    <tr>\n",
       "      <th>2</th>\n",
       "      <td>54</td>\n",
       "      <td>-0.002 millions USD</td>\n",
       "      <td>3</td>\n",
       "      <td>Buffett</td>\n",
       "      <td>87.0</td>\n",
       "      <td>M</td>\n",
       "      <td>United States</td>\n",
       "      <td>https://specials-images.forbesimg.com/imageser...</td>\n",
       "      <td>3988</td>\n",
       "      <td>Warren Buffett</td>\n",
       "      <td>3.0</td>\n",
       "      <td>Berkshire Hathaway</td>\n",
       "      <td>Finance and Investments</td>\n",
       "      <td>84.0</td>\n",
       "    </tr>\n",
       "    <tr>\n",
       "      <th>3</th>\n",
       "      <td>55</td>\n",
       "      <td>0.0 millions USD</td>\n",
       "      <td>4</td>\n",
       "      <td>Arnault</td>\n",
       "      <td>69.0</td>\n",
       "      <td>None</td>\n",
       "      <td>None</td>\n",
       "      <td>https://specials-images.forbesimg.com/imageser...</td>\n",
       "      <td>9380</td>\n",
       "      <td>Bernard Arnault</td>\n",
       "      <td>4.0</td>\n",
       "      <td>LVMH</td>\n",
       "      <td>Fashion &amp; Retail</td>\n",
       "      <td>72.0</td>\n",
       "    </tr>\n",
       "    <tr>\n",
       "      <th>4</th>\n",
       "      <td>56</td>\n",
       "      <td>0.0 millions USD</td>\n",
       "      <td>5</td>\n",
       "      <td>Zuckerberg</td>\n",
       "      <td>33.0</td>\n",
       "      <td>M</td>\n",
       "      <td>United States</td>\n",
       "      <td>https://specials-images.forbesimg.com/imageser...</td>\n",
       "      <td>4001</td>\n",
       "      <td>Mark Zuckerberg</td>\n",
       "      <td>5.0</td>\n",
       "      <td>Facebook</td>\n",
       "      <td>Technology</td>\n",
       "      <td>71.0</td>\n",
       "    </tr>\n",
       "  </tbody>\n",
       "</table>\n",
       "</div>"
      ],
      "text/plain": [
       "   Unnamed: 0          worthChange  realTimePosition    lastName   age gender  \\\n",
       "0          52     0.0 millions USD                 1       Bezos  54.0   None   \n",
       "1          53  -0.001 millions USD                 2       Gates  62.0   Male   \n",
       "2          54  -0.002 millions USD                 3     Buffett  87.0      M   \n",
       "3          55     0.0 millions USD                 4     Arnault  69.0   None   \n",
       "4          56     0.0 millions USD                 5  Zuckerberg  33.0      M   \n",
       "\n",
       "         country                                              image    id  \\\n",
       "0  United States  https://specials-images.forbesimg.com/imageser...  1014   \n",
       "1  United States  https://specials-images.forbesimg.com/imageser...  1305   \n",
       "2  United States  https://specials-images.forbesimg.com/imageser...  3988   \n",
       "3           None  https://specials-images.forbesimg.com/imageser...  9380   \n",
       "4  United States  https://specials-images.forbesimg.com/imageser...  4001   \n",
       "\n",
       "              name  position        company_name           company_sector  \\\n",
       "0       Jeff Bezos       1.0              Amazon               Technology   \n",
       "1       Bill Gates       2.0           Microsoft               Technology   \n",
       "2   Warren Buffett       3.0  Berkshire Hathaway  Finance and Investments   \n",
       "3  Bernard Arnault       4.0                LVMH         Fashion & Retail   \n",
       "4  Mark Zuckerberg       5.0            Facebook               Technology   \n",
       "\n",
       "   worth_amount_(BUSD)  \n",
       "0                112.0  \n",
       "1                 90.0  \n",
       "2                 84.0  \n",
       "3                 72.0  \n",
       "4                 71.0  "
      ]
     },
     "execution_count": 34,
     "metadata": {},
     "output_type": "execute_result"
    }
   ],
   "source": [
    "df_merged.head()"
   ]
  },
  {
   "cell_type": "code",
   "execution_count": 35,
   "metadata": {},
   "outputs": [
    {
     "data": {
      "text/plain": [
       "array(['None', 'Male', 'M', 'Female', 'F', None], dtype=object)"
      ]
     },
     "execution_count": 35,
     "metadata": {},
     "output_type": "execute_result"
    }
   ],
   "source": [
    "df_merged['gender'].unique()"
   ]
  },
  {
   "cell_type": "code",
   "execution_count": 36,
   "metadata": {},
   "outputs": [],
   "source": [
    "def gender_clean(gender):\n",
    "    if gender is None:\n",
    "        return None \n",
    "    elif re.search('Male', gender) is not None:\n",
    "        return 'M'\n",
    "    elif re.search('Female', gender) is not None:\n",
    "        return 'F'\n",
    "    elif re.search('None', gender) is not None:\n",
    "        return None\n",
    "    else:\n",
    "        return gender"
   ]
  },
  {
   "cell_type": "code",
   "execution_count": 37,
   "metadata": {},
   "outputs": [
    {
     "data": {
      "text/plain": [
       "array([None, 'M', 'F'], dtype=object)"
      ]
     },
     "execution_count": 37,
     "metadata": {},
     "output_type": "execute_result"
    }
   ],
   "source": [
    "df_merged['gender'] = df_merged['gender'].apply(gender_clean)\n",
    "df_merged['gender'].unique()"
   ]
  },
  {
   "cell_type": "code",
   "execution_count": 38,
   "metadata": {},
   "outputs": [
    {
     "data": {
      "text/plain": [
       "age         2.943841\n",
       "gender     25.407609\n",
       "country    60.190217\n",
       "dtype: float64"
      ]
     },
     "execution_count": 38,
     "metadata": {},
     "output_type": "execute_result"
    }
   ],
   "source": [
    "null_cols = df_merged.isnull().sum()\n",
    "\n",
    "null_cols[null_cols > 0]\n",
    "\n",
    "null_cols[null_cols > 0] / len(df_merged) * 100"
   ]
  },
  {
   "cell_type": "code",
   "execution_count": 39,
   "metadata": {},
   "outputs": [],
   "source": [
    "columns = ['name', 'worth_amount_(BUSD)', 'country', 'company_sector', 'company_name', 'age', 'gender']\n",
    "df_cleaned = df_merged[columns]"
   ]
  },
  {
   "cell_type": "code",
   "execution_count": 40,
   "metadata": {},
   "outputs": [],
   "source": [
    "df_cleaned.to_csv(f'../data/processed/cleaned_data.csv')"
   ]
  }
 ],
 "metadata": {
  "kernelspec": {
   "display_name": "Python [conda env:data_env]",
   "language": "python",
   "name": "conda-env-data_env-py"
  },
  "language_info": {
   "codemirror_mode": {
    "name": "ipython",
    "version": 3
   },
   "file_extension": ".py",
   "mimetype": "text/x-python",
   "name": "python",
   "nbconvert_exporter": "python",
   "pygments_lexer": "ipython3",
   "version": "3.7.5"
  }
 },
 "nbformat": 4,
 "nbformat_minor": 4
}
