{
 "cells": [
  {
   "cell_type": "code",
   "execution_count": 1,
   "metadata": {},
   "outputs": [],
   "source": [
    "import json\n",
    "import requests\n",
    "import pandas as pd"
   ]
  },
  {
   "cell_type": "code",
   "execution_count": 15,
   "metadata": {},
   "outputs": [],
   "source": [
    "response = requests.get(' http://api.worldbank.org/V2/country?incomeLevel=LIC&format=json')"
   ]
  },
  {
   "cell_type": "code",
   "execution_count": 19,
   "metadata": {},
   "outputs": [],
   "source": [
    "results = response.json()"
   ]
  },
  {
   "cell_type": "code",
   "execution_count": 22,
   "metadata": {},
   "outputs": [
    {
     "data": {
      "text/html": [
       "<div>\n",
       "<style scoped>\n",
       "    .dataframe tbody tr th:only-of-type {\n",
       "        vertical-align: middle;\n",
       "    }\n",
       "\n",
       "    .dataframe tbody tr th {\n",
       "        vertical-align: top;\n",
       "    }\n",
       "\n",
       "    .dataframe thead th {\n",
       "        text-align: right;\n",
       "    }\n",
       "</style>\n",
       "<table border=\"1\" class=\"dataframe\">\n",
       "  <thead>\n",
       "    <tr style=\"text-align: right;\">\n",
       "      <th></th>\n",
       "      <th>0</th>\n",
       "    </tr>\n",
       "  </thead>\n",
       "  <tbody>\n",
       "    <tr>\n",
       "      <th>0</th>\n",
       "      <td>b'[{\"page\":1,\"pages\":1,\"per_page\":\"50\",\"total\"...</td>\n",
       "    </tr>\n",
       "    <tr>\n",
       "      <th>1</th>\n",
       "      <td>b'e\":\"8S\",\"value\":\"South Asia\"},\"adminregion\":...</td>\n",
       "    </tr>\n",
       "    <tr>\n",
       "      <th>2</th>\n",
       "      <td>b'e\":\"XM\",\"value\":\"Low income\"},\"lendingType\":...</td>\n",
       "    </tr>\n",
       "    <tr>\n",
       "      <th>3</th>\n",
       "      <td>b'1\",\"latitude\":\"34.5228\"},{\"id\":\"BDI\",\"iso2Co...</td>\n",
       "    </tr>\n",
       "    <tr>\n",
       "      <th>4</th>\n",
       "      <td>b'Africa \"},\"adminregion\":{\"id\":\"SSA\",\"iso2cod...</td>\n",
       "    </tr>\n",
       "  </tbody>\n",
       "</table>\n",
       "</div>"
      ],
      "text/plain": [
       "                                                   0\n",
       "0  b'[{\"page\":1,\"pages\":1,\"per_page\":\"50\",\"total\"...\n",
       "1  b'e\":\"8S\",\"value\":\"South Asia\"},\"adminregion\":...\n",
       "2  b'e\":\"XM\",\"value\":\"Low income\"},\"lendingType\":...\n",
       "3  b'1\",\"latitude\":\"34.5228\"},{\"id\":\"BDI\",\"iso2Co...\n",
       "4  b'Africa \"},\"adminregion\":{\"id\":\"SSA\",\"iso2cod..."
      ]
     },
     "execution_count": 22,
     "metadata": {},
     "output_type": "execute_result"
    }
   ],
   "source": [
    "data = pd.DataFrame(response)\n",
    "data.head()"
   ]
  },
  {
   "cell_type": "code",
   "execution_count": 25,
   "metadata": {},
   "outputs": [
    {
     "data": {
      "text/plain": [
       "[        0            1\n",
       " 0  Source   World Bank\n",
       " 1    Date  03 Nov 2019,\n",
       "             Country/Economy GDP 2018 (billions of $)                           \\\n",
       "             Country/Economy                  Nominal   Rank        PPP Rank.1   \n",
       " 0             United States                 20494100    1.0   20494100    2.0   \n",
       " 1                     China                 13608200    2.0   25361700    1.0   \n",
       " 2                     Japan                  4970920    3.0    5484950    4.0   \n",
       " 3                   Germany                  3996760    4.0    4505240    5.0   \n",
       " 4            United Kingdom                  2825210    5.0    3074430    9.0   \n",
       " ..                      ...                      ...    ...        ...    ...   \n",
       " 213    Syrian Arab Republic                        -  214.0          -  214.0   \n",
       " 214           Venezuela, RB                        -  215.0          -  215.0   \n",
       " 215  British Virgin Islands                        -  216.0          -  216.0   \n",
       " 216   Virgin Islands (U.S.)                        -  217.0          -  217.0   \n",
       " 217                   World                 85790800    NaN  136477000    NaN   \n",
       " \n",
       "     GDP per capita 2018 ($)                      GDP Growth (%)         \n",
       "                     Nominal   Rank    PPP Rank.1           2018   Rank  \n",
       " 0                     62641    9.0  62641   12.0          2.857  102.0  \n",
       " 1                      9771   68.0  18210   65.0          6.600   16.0  \n",
       " 2                     39287   26.0  43349   27.0          0.788  166.0  \n",
       " 3                     48196   17.0  54327   18.0          1.425  151.0  \n",
       " 4                     42491   21.0  46240   25.0          1.398  156.0  \n",
       " ..                      ...    ...    ...    ...            ...    ...  \n",
       " 213                       -  214.0      -  214.0              -  214.0  \n",
       " 214                       -  215.0      -  215.0              -  215.0  \n",
       " 215                       -  216.0      -  216.0              -  216.0  \n",
       " 216                       -  217.0      -  217.0              -  217.0  \n",
       " 217                   11297    NaN  17971    NaN          3.035    NaN  \n",
       " \n",
       " [218 rows x 11 columns]]"
      ]
     },
     "execution_count": 25,
     "metadata": {},
     "output_type": "execute_result"
    }
   ],
   "source": [
    "pd.read_html('http://statisticstimes.com/economy/gdp-indicators-2018.php')"
   ]
  }
 ],
 "metadata": {
  "kernelspec": {
   "display_name": "Python [conda env:data_env]",
   "language": "python",
   "name": "conda-env-data_env-py"
  },
  "language_info": {
   "codemirror_mode": {
    "name": "ipython",
    "version": 3
   },
   "file_extension": ".py",
   "mimetype": "text/x-python",
   "name": "python",
   "nbconvert_exporter": "python",
   "pygments_lexer": "ipython3",
   "version": "3.7.5"
  }
 },
 "nbformat": 4,
 "nbformat_minor": 4
}
